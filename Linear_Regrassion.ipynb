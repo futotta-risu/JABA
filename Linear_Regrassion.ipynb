{
 "cells": [
  {
   "cell_type": "markdown",
   "id": "e7f85a46-f51a-44c4-bebf-a33d115d89c2",
   "metadata": {},
   "source": [
    "# Linear Regression"
   ]
  },
  {
   "cell_type": "markdown",
   "id": "8c77a7e0-93e7-49a4-890a-438902ab85c2",
   "metadata": {},
   "source": [
    "En este Notebook aplicaremos el modelo de regresion lineal para predecir el precio del bitcoin en base al sentimiento en twitter en ese instante."
   ]
  },
  {
   "cell_type": "markdown",
   "id": "19f0c03c-1e4a-4169-b2f2-e02190929344",
   "metadata": {},
   "source": [
    "## Imports"
   ]
  },
  {
   "cell_type": "code",
   "execution_count": 1,
   "id": "4bd85eb7-101c-4bb4-9e5c-e8f2dbd50250",
   "metadata": {},
   "outputs": [],
   "source": [
    "import pandas as pd\n",
    "import numpy as np\n",
    "from datetime import datetime, timezone\n",
    "import time\n",
    "import datetime\n",
    "import re\n",
    "from JABA.utils import DFPicker"
   ]
  },
  {
   "cell_type": "markdown",
   "id": "cc234e0d-af90-472b-aaa6-231dc382bb95",
   "metadata": {},
   "source": [
    "## Pick the data"
   ]
  },
  {
   "cell_type": "code",
   "execution_count": 2,
   "id": "fc569fdf-f95a-4ee4-857f-eb6cf5c1b7a6",
   "metadata": {},
   "outputs": [
    {
     "name": "stderr",
     "output_type": "stream",
     "text": [
      "C:\\Users\\User\\Documents\\GitHub\\JABA\\JABA\\utils\\DFPicker.py:23: SettingWithCopyWarning: \n",
      "A value is trying to be set on a copy of a slice from a DataFrame\n",
      "\n",
      "See the caveats in the documentation: https://pandas.pydata.org/pandas-docs/stable/user_guide/indexing.html#returning-a-view-versus-a-copy\n",
      "  final_df.round_time[i] = datetime.datetime.strptime(time, '%Y-%m-%d %H:%M:%S')\n"
     ]
    },
    {
     "name": "stdout",
     "output_type": "stream",
     "text": [
      "JABA/data/tweets/2018-03-03/sentiment_file_nltk.csv\n"
     ]
    },
    {
     "name": "stderr",
     "output_type": "stream",
     "text": [
      "C:\\Users\\User\\Documents\\GitHub\\JABA\\JABA\\utils\\DFPicker.py:33: SettingWithCopyWarning: \n",
      "A value is trying to be set on a copy of a slice from a DataFrame\n",
      "\n",
      "See the caveats in the documentation: https://pandas.pydata.org/pandas-docs/stable/user_guide/indexing.html#returning-a-view-versus-a-copy\n",
      "  temp_sentiment_df.round_time[i] = datetime.datetime.strptime(time, '%Y-%m-%d %H:%M:%S')\n"
     ]
    },
    {
     "name": "stdout",
     "output_type": "stream",
     "text": [
      "               round_time      Open      High       Low     Close  Trades  \\\n",
      "0     2018-03-03 00:00:00  10923.36  10930.46  10920.00  10923.01     123   \n",
      "1     2018-03-03 00:01:00  10923.01  10938.88  10923.00  10935.00     136   \n",
      "2     2018-03-03 00:02:00  10935.00  10935.00  10930.00  10934.46      87   \n",
      "3     2018-03-03 00:03:00  10934.46  10939.00  10931.11  10939.00      82   \n",
      "4     2018-03-03 00:04:00  10938.88  10939.00  10933.97  10933.97     124   \n",
      "...                   ...       ...       ...       ...       ...     ...   \n",
      "1435  2018-03-03 23:55:00  11029.97  11029.99  11017.96  11018.42      99   \n",
      "1436  2018-03-03 23:56:00  11027.99  11028.00  11019.89  11020.00      69   \n",
      "1437  2018-03-03 23:57:00  11021.07  11036.54  11017.19  11028.74     124   \n",
      "1438  2018-03-03 23:58:00  11030.00  11038.99  11021.01  11025.87      53   \n",
      "1439  2018-03-03 23:59:00  11025.87  11039.00  11023.00  11039.00     122   \n",
      "\n",
      "      sentiment  \n",
      "0      0.359838  \n",
      "1      0.116187  \n",
      "2      0.428037  \n",
      "3      0.115432  \n",
      "4      0.261620  \n",
      "...         ...  \n",
      "1435   0.632675  \n",
      "1436   0.199900  \n",
      "1437   0.335925  \n",
      "1438   0.397771  \n",
      "1439   0.064780  \n",
      "\n",
      "[1440 rows x 7 columns]\n",
      "               round_time      Open      High       Low     Close  Trades  \\\n",
      "0     2018-03-02 00:00:00  11038.99  11082.53  11015.01  11082.53     408   \n",
      "1     2018-03-02 00:01:00  11082.52  11089.00  11068.09  11078.10     283   \n",
      "2     2018-03-02 00:02:00  11078.10  11089.00  11061.00  11070.01     149   \n",
      "3     2018-03-02 00:03:00  11070.00  11075.95  11059.01  11064.83     177   \n",
      "4     2018-03-02 00:04:00  11075.65  11075.66  11059.01  11072.81     167   \n",
      "...                   ...       ...       ...       ...       ...     ...   \n",
      "1435  2018-03-02 23:55:00  11470.50  11475.45  11460.00  11470.00      75   \n",
      "1436  2018-03-02 23:56:00  11470.50  11471.00  11460.61  11470.00      48   \n",
      "1437  2018-03-02 23:57:00  11468.99  11469.00  11460.00  11467.00      76   \n",
      "1438  2018-03-02 23:58:00  11466.79  11466.79  11450.00  11450.00      98   \n",
      "1439  2018-03-02 23:59:00  11456.99  11464.48  11450.00  11464.48      79   \n",
      "\n",
      "      sentiment  \n",
      "0      0.325672  \n",
      "1      0.299462  \n",
      "2      0.182594  \n",
      "3      0.303525  \n",
      "4      0.178416  \n",
      "...         ...  \n",
      "1435   0.225493  \n",
      "1436   0.369247  \n",
      "1437  -0.055169  \n",
      "1438   0.183780  \n",
      "1439  -0.031136  \n",
      "\n",
      "[1440 rows x 7 columns]\n"
     ]
    }
   ],
   "source": [
    "df = DFPicker.get_complete_df(datetime.date(2018, 3, 2),datetime.date(2018, 3, 4))\n",
    "print(df.head(1440))\n",
    "print(df.tail(1440))\n"
   ]
  },
  {
   "cell_type": "code",
   "execution_count": null,
   "id": "a3cefcb8-4963-4044-9a4f-596c536f09b9",
   "metadata": {},
   "outputs": [],
   "source": []
  },
  {
   "cell_type": "code",
   "execution_count": null,
   "id": "8a27d1b8-a7ad-4ec5-81e5-3218194960f0",
   "metadata": {},
   "outputs": [],
   "source": []
  },
  {
   "cell_type": "code",
   "execution_count": null,
   "id": "2a076b4e-e91d-4fde-b50a-d56b64f2d014",
   "metadata": {},
   "outputs": [],
   "source": []
  }
 ],
 "metadata": {
  "kernelspec": {
   "display_name": "Python 3",
   "language": "python",
   "name": "python3"
  },
  "language_info": {
   "codemirror_mode": {
    "name": "ipython",
    "version": 3
   },
   "file_extension": ".py",
   "mimetype": "text/x-python",
   "name": "python",
   "nbconvert_exporter": "python",
   "pygments_lexer": "ipython3",
   "version": "3.8.8"
  }
 },
 "nbformat": 4,
 "nbformat_minor": 5
}
