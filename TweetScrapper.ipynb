{
 "cells": [
  {
   "cell_type": "markdown",
   "id": "7b9bef79",
   "metadata": {},
   "source": [
    "# Tweet Scraper\n",
    "\n",
    "Este es el notebook que usaremos para el scrapeo de datos\n"
   ]
  },
  {
   "cell_type": "markdown",
   "id": "cd7eed62",
   "metadata": {},
   "source": [
    "## Librerias\n",
    "\n",
    "Para el scrapeo usaremos las siguientes librerias:\n",
    "* Sntwitter\n",
    "* Pandas"
   ]
  },
  {
   "cell_type": "code",
   "execution_count": null,
   "id": "cdb93129",
   "metadata": {},
   "outputs": [],
   "source": [
    "import datetime\n",
    "from datetime import timedelta\n",
    "\n",
    "import snscrape.modules.twitter as snstwitter\n",
    "\n",
    "import pandas as pd\n",
    "import seaborn as sns\n",
    "\n",
    "from tqdm import tqdm\n",
    "\n",
    "from src.JATS import JATS"
   ]
  },
  {
   "cell_type": "markdown",
   "id": "bca3ab28",
   "metadata": {},
   "source": [
    "## Parametros\n",
    "\n"
   ]
  },
  {
   "cell_type": "code",
   "execution_count": null,
   "id": "5788a27f-4596-463e-ade2-9b92e4c87281",
   "metadata": {},
   "outputs": [],
   "source": [
    "from JATS.src.JATS.analyzer import Analyzer\n",
    "from nltk.corpus import stopwords\n",
    "a = Analyzer()\n",
    "from nltk.tokenize import word_tokenize\n",
    "stop_words = set(stopwords.words('english'))"
   ]
  },
  {
   "cell_type": "code",
   "execution_count": null,
   "id": "2bd0d6e6-0072-4889-be01-96908620e0cc",
   "metadata": {},
   "outputs": [],
   "source": [
    "text = \"Hi, today I hate bitcoin and all their products. Call me Mark Tyson\"\n",
    "print(\" \".join([w for w in text.split() if not w in stop_words]))"
   ]
  },
  {
   "cell_type": "code",
   "execution_count": null,
   "id": "0ec5debd-6242-4670-bf52-d829cb4d29ee",
   "metadata": {},
   "outputs": [],
   "source": [
    "%%timeit text = \"Hi, today I hate bitcoin and all their products\"\n",
    "filtered_sentence = \" \".join([w for w in text.split() if not w in stop_words])\n",
    "\n",
    "a.get_sentiment(filtered_sentence)"
   ]
  },
  {
   "cell_type": "code",
   "execution_count": null,
   "id": "feb4e4a5-384e-421d-8e99-13e62b1b7f42",
   "metadata": {},
   "outputs": [],
   "source": [
    "%%timeit text = \"Hi, today I hate bitcoin and all their products\"\n",
    "a.get_sentiment(text)"
   ]
  },
  {
   "cell_type": "code",
   "execution_count": null,
   "id": "d94327ad",
   "metadata": {
    "scrolled": true
   },
   "outputs": [],
   "source": [
    "query = '\"BTC\" OR \"bitcoin\"'\n",
    "\n",
    "date_from = datetime.date(2018, 4, 1)\n",
    "date_until = datetime.date(2018, 4, 30)\n",
    "\n",
    "tweet_list = JATS.get_tweets(query, date_from, date_until, verbose = True)"
   ]
  },
  {
   "cell_type": "code",
   "execution_count": null,
   "id": "23d3d038-e43a-4900-9418-c2a6e0d28800",
   "metadata": {},
   "outputs": [],
   "source": [
    "columnNames = [\n",
    "    'Datetime',\n",
    "    'Tweet Id',\n",
    "    'Text', \n",
    "    'NumReplies',\n",
    "    'NumRetweets',\n",
    "    'NumLikes', \n",
    "    'IDOriginalRetweeted', \n",
    "    'Username',\n",
    "    'isVerified'\n",
    "]\n",
    "tweet_df = pd.DataFrame(tweet_list, columns=columnNames)"
   ]
  },
  {
   "cell_type": "markdown",
   "id": "4a9cbdd8",
   "metadata": {},
   "source": [
    "### Lectura de ficheros ya existentes"
   ]
  },
  {
   "cell_type": "code",
   "execution_count": null,
   "id": "4d8f2a66",
   "metadata": {},
   "outputs": [],
   "source": [
    "file_name = \"data/tweets/2018-03-02/2018-04-03/tweet_list.csv\"\n",
    "tweet_df = pd.read_csv(file_name, sep=';')\n",
    "\n",
    "tweet_df[\"Datetime\"] = pd.to_datetime(tweet_df[\"Datetime\"])"
   ]
  },
  {
   "cell_type": "markdown",
   "id": "563cabba",
   "metadata": {},
   "source": [
    "## Analisis de sentimientos"
   ]
  },
  {
   "cell_type": "markdown",
   "id": "29589f56",
   "metadata": {},
   "source": [
    "### Preparación del Analisis\n",
    "\n",
    "En caso de ser nuestra primera ejecución, deberemos instalar un conjunto de datasets utiles para *nltk*."
   ]
  },
  {
   "cell_type": "code",
   "execution_count": null,
   "id": "8e453004",
   "metadata": {},
   "outputs": [],
   "source": [
    "from JATS.src.JATS.analyzer import Analyzer"
   ]
  },
  {
   "cell_type": "markdown",
   "id": "50216e2c",
   "metadata": {},
   "source": [
    "## Analisis de Sentimiento\n",
    "\n",
    "Eliminaremos los valores nulos ya que parece que cuando el algoritmo no es capaz de determinar el sentimiento, tiende a ponerle un 0, creando una desviación del sentimiento real.\n",
    "\n",
    "Lo primero que haremos será mostrar la **media del sentimiento** y una **gráfica de distribución del sentimiento**."
   ]
  },
  {
   "cell_type": "code",
   "execution_count": null,
   "id": "343e0989",
   "metadata": {},
   "outputs": [],
   "source": [
    "a = Analyzer()"
   ]
  },
  {
   "cell_type": "code",
   "execution_count": null,
   "id": "c8112b3a",
   "metadata": {},
   "outputs": [],
   "source": [
    "a.analyze(tweet_df, \"data/tweets/2018-04-01/2018-04-02\") # Saved to a CSV"
   ]
  },
  {
   "cell_type": "markdown",
   "id": "dd439c56-8346-41de-80a5-0efc9f96c27c",
   "metadata": {},
   "source": [
    "## Analisis de Similitudes\n",
    "\n",
    "Tenemos que comprobar la existencia de tweets similares para evitar el SPAM que existe en mensajes que no son completamente identicos.\n",
    "\n",
    "Para ellos haremos uso de la metrica de similitud Cosine Similarity y despues aplicaremos un DBScan para asignar clusters a esos tweets."
   ]
  },
  {
   "cell_type": "code",
   "execution_count": null,
   "id": "bc92c1ce-3f42-478d-a687-4230483a5ef7",
   "metadata": {},
   "outputs": [],
   "source": [
    "import string\n",
    "from sklearn.metrics.pairwise import cosine_similarity\n",
    "from sklearn.feature_extraction.text import CountVectorizer\n",
    "\n",
    "def get_cosine_similarity(cleaned_texts):\n",
    "    vectorizer = CountVectorizer().fit_transform(cleaned_texts)\n",
    "    vectors = vectorizer.toarray()\n",
    "    return cosine_similarity(vectors)"
   ]
  },
  {
   "cell_type": "code",
   "execution_count": null,
   "id": "abf97c6a-436e-48f7-8b45-a6a99fec5e81",
   "metadata": {},
   "outputs": [],
   "source": [
    "\n",
    "print(tweet_df.isnull().sum())\n",
    "tweet_df = tweet_df.dropna(axis=0, subset=['Text'])\n",
    "print(tweet_df.isnull().sum())\n",
    "\n",
    "csim = get_cosine_similarity(tweet_df['Text'])"
   ]
  },
  {
   "cell_type": "code",
   "execution_count": null,
   "id": "65785f54-c8a3-460b-925f-8941590960fa",
   "metadata": {},
   "outputs": [],
   "source": [
    "from sklearn.cluster import DBSCAN\n",
    "import numpy as np\n",
    "clustering = DBSCAN(eps=1.04, min_samples=1).fit(csim)\n",
    "unique_elements, counts_elements = np.unique(clustering.labels_, return_counts=True)\n",
    "print(type(clustering.labels_))\n",
    "print(np.asarray((unique_elements, counts_elements)))"
   ]
  },
  {
   "cell_type": "code",
   "execution_count": null,
   "id": "f6099f2a-95f9-41d1-bd87-9f06cc796834",
   "metadata": {},
   "outputs": [],
   "source": [
    "print(csim)"
   ]
  },
  {
   "cell_type": "code",
   "execution_count": null,
   "id": "720a781c-e456-4774-9838-2f7e565c6c10",
   "metadata": {},
   "outputs": [],
   "source": [
    "tweet_df['Prediction'] = clustering.labels_.tolist()\n",
    "df = pd.DataFrame\n",
    "tweet_df[tweet_df['Prediction'] < 1].head()"
   ]
  },
  {
   "cell_type": "code",
   "execution_count": null,
   "id": "86765b71-d1b4-4d78-ba9c-6203e83f9143",
   "metadata": {},
   "outputs": [],
   "source": [
    "import pandas as pd\n",
    "\n",
    "column = [\"DateTime\",\"Cosa\"]\n",
    "df = pd.DataFrame(columns=column)"
   ]
  },
  {
   "cell_type": "code",
   "execution_count": null,
   "id": "8c16c9a7-04b5-4d06-9f21-691463ddb172",
   "metadata": {},
   "outputs": [],
   "source": [
    "df.count().reset_index()"
   ]
  },
  {
   "cell_type": "code",
   "execution_count": null,
   "id": "0ee595e0-c7d9-4f5d-a1a1-a4ada7b4da99",
   "metadata": {},
   "outputs": [],
   "source": [
    "class Foo: pass\n",
    "class Bar(Foo): pass\n",
    "class Bar2(Foo): pass\n",
    "class Bar(Bar): pass"
   ]
  },
  {
   "cell_type": "code",
   "execution_count": null,
   "id": "8d3d5ec5-ebce-43ee-a4ba-ae5b1b79aa37",
   "metadata": {},
   "outputs": [],
   "source": [
    "Foo.__subclasses__()"
   ]
  },
  {
   "cell_type": "code",
   "execution_count": null,
   "id": "f2cbc5f5-d06e-4034-9a57-82cc0c0ad50b",
   "metadata": {},
   "outputs": [],
   "source": [
    "[ q.__name__ for q in Foo.__subclasses__()]\n"
   ]
  },
  {
   "cell_type": "code",
   "execution_count": null,
   "id": "8112ea9f-b6dc-47d0-9e21-06d78ce84c5e",
   "metadata": {},
   "outputs": [],
   "source": [
    "[ q() for q in Foo.__subclasses__() if q.__name__ == \"Bar\"]"
   ]
  },
  {
   "cell_type": "code",
   "execution_count": null,
   "id": "5da2242c-37b2-4e9c-a67e-044eb356b0b3",
   "metadata": {},
   "outputs": [],
   "source": [
    "import pandas as pd\n",
    "\n",
    "\n",
    "d = {'col1': [1, 2,1,2,4,7,1], \n",
    "     'col2': [1, 2,1,1,4,1,1],\n",
    "     'col3': [11, 32,41,14,4,4,18],\n",
    "     'col5': ['11', '32','41','14','4','4','18']}\n",
    "df = pd.DataFrame(data=d)"
   ]
  },
  {
   "cell_type": "code",
   "execution_count": null,
   "id": "3d47e0ee-a321-4ddb-98cc-9ef6a723a513",
   "metadata": {},
   "outputs": [],
   "source": [
    "df.groupby('col1', as_index=False).mean().columns\n",
    "\n"
   ]
  },
  {
   "cell_type": "markdown",
   "id": "2449e4de-8264-4afa-8bf7-440a194482d6",
   "metadata": {},
   "source": [
    "## Separar obtención de bitcoin a dia a dia"
   ]
  },
  {
   "cell_type": "code",
   "execution_count": 75,
   "id": "a41d1e86-ce50-4a43-b757-46d4cb0ca1ef",
   "metadata": {},
   "outputs": [],
   "source": [
    "import os\n",
    "from pathlib import Path\n",
    "import pandas as pd\n"
   ]
  },
  {
   "cell_type": "code",
   "execution_count": 81,
   "id": "9f55dea5-87f8-46e0-8d65-b71203b2a756",
   "metadata": {},
   "outputs": [],
   "source": [
    "df = pd.read_csv(\"JABA/data/bitcoin/BTCUSDT-1m-data.csv\", sep=\",\")"
   ]
  },
  {
   "cell_type": "code",
   "execution_count": 82,
   "id": "12bc2515-3db2-4ba1-9a40-01b47c0c3b69",
   "metadata": {},
   "outputs": [],
   "source": [
    "df[\"timestamp\"] = pd.to_datetime(df[\"timestamp\"])\n",
    "\n",
    "df[\"timestamp_round\"] = df[\"timestamp\"].dt.floor(\"d\")\n",
    "df = df.set_index(\"timestamp_round\")"
   ]
  },
  {
   "cell_type": "code",
   "execution_count": 83,
   "id": "8945afb1-2512-4522-9969-f458a0135ed2",
   "metadata": {},
   "outputs": [
    {
     "name": "stdout",
     "output_type": "stream",
     "text": [
      "JABA/data/bitcoin/2017-11-24\\bitcoin.csv\n",
      "Paso 100 del año 0\n",
      "JABA/data/bitcoin/2018-03-04\\bitcoin.csv\n",
      "Paso 200 del año 0\n",
      "JABA/data/bitcoin/2018-06-12\\bitcoin.csv\n",
      "Paso 300 del año 0\n",
      "JABA/data/bitcoin/2018-09-20\\bitcoin.csv\n",
      "Paso 35 del año 1\n",
      "JABA/data/bitcoin/2018-12-29\\bitcoin.csv\n",
      "Paso 135 del año 1\n",
      "JABA/data/bitcoin/2019-04-08\\bitcoin.csv\n",
      "Paso 235 del año 1\n",
      "JABA/data/bitcoin/2019-07-17\\bitcoin.csv\n",
      "Paso 335 del año 1\n",
      "JABA/data/bitcoin/2019-10-25\\bitcoin.csv\n",
      "Paso 70 del año 2\n",
      "JABA/data/bitcoin/2020-02-02\\bitcoin.csv\n",
      "Paso 170 del año 2\n",
      "JABA/data/bitcoin/2020-05-12\\bitcoin.csv\n",
      "Paso 270 del año 2\n",
      "JABA/data/bitcoin/2020-08-20\\bitcoin.csv\n",
      "Paso 5 del año 3\n",
      "JABA/data/bitcoin/2020-11-28\\bitcoin.csv\n",
      "Paso 105 del año 3\n",
      "JABA/data/bitcoin/2021-03-08\\bitcoin.csv\n",
      "Paso 205 del año 3\n",
      "JABA/data/bitcoin/2021-06-16\\bitcoin.csv\n",
      "Paso 305 del año 3\n"
     ]
    }
   ],
   "source": [
    "\n",
    "DFList = []\n",
    "i = 0\n",
    "datee = 0\n",
    "for group in df.groupby(df.index):\n",
    "    \n",
    "    i += 1\n",
    "    datee = str(group[1].iloc[0][\"timestamp\"].to_pydatetime().date())\n",
    "    path = bitcoin_dataset_file_name = os.path.join(base_dir_btc, datee)\n",
    "    file_name = os.path.join(path, \"bitcoin.csv\")\n",
    "    Path(path).mkdir(parents=True, exist_ok=True)\n",
    "    if i%100 == 0: \n",
    "        print(file_name)\n",
    "        print(f\"Paso {i%365} del año {i//365}\")\n",
    "    group[1].to_csv(file_name, sep=\";\")"
   ]
  },
  {
   "cell_type": "code",
   "execution_count": 80,
   "id": "c9751ead-01de-43b9-9277-32663acecf30",
   "metadata": {},
   "outputs": [
    {
     "ename": "AttributeError",
     "evalue": "'DataFrameGroupBy' object has no attribute 'shape'",
     "output_type": "error",
     "traceback": [
      "\u001b[1;31m---------------------------------------------------------------------------\u001b[0m",
      "\u001b[1;31mAttributeError\u001b[0m                            Traceback (most recent call last)",
      "\u001b[1;32m<ipython-input-80-5d978db7bb5a>\u001b[0m in \u001b[0;36m<module>\u001b[1;34m\u001b[0m\n\u001b[1;32m----> 1\u001b[1;33m \u001b[0mdf\u001b[0m\u001b[1;33m.\u001b[0m\u001b[0mgroupby\u001b[0m\u001b[1;33m(\u001b[0m\u001b[0mdf\u001b[0m\u001b[1;33m.\u001b[0m\u001b[0mindex\u001b[0m\u001b[1;33m)\u001b[0m\u001b[1;33m.\u001b[0m\u001b[0mshape\u001b[0m\u001b[1;33m\u001b[0m\u001b[1;33m\u001b[0m\u001b[0m\n\u001b[0m",
      "\u001b[1;32m~\\Anaconda3\\envs\\JABA\\lib\\site-packages\\pandas\\core\\groupby\\groupby.py\u001b[0m in \u001b[0;36m__getattr__\u001b[1;34m(self, attr)\u001b[0m\n\u001b[0;32m    750\u001b[0m             \u001b[1;32mreturn\u001b[0m \u001b[0mself\u001b[0m\u001b[1;33m[\u001b[0m\u001b[0mattr\u001b[0m\u001b[1;33m]\u001b[0m\u001b[1;33m\u001b[0m\u001b[1;33m\u001b[0m\u001b[0m\n\u001b[0;32m    751\u001b[0m \u001b[1;33m\u001b[0m\u001b[0m\n\u001b[1;32m--> 752\u001b[1;33m         raise AttributeError(\n\u001b[0m\u001b[0;32m    753\u001b[0m             \u001b[1;34mf\"'{type(self).__name__}' object has no attribute '{attr}'\"\u001b[0m\u001b[1;33m\u001b[0m\u001b[1;33m\u001b[0m\u001b[0m\n\u001b[0;32m    754\u001b[0m         )\n",
      "\u001b[1;31mAttributeError\u001b[0m: 'DataFrameGroupBy' object has no attribute 'shape'"
     ]
    }
   ],
   "source": []
  },
  {
   "cell_type": "code",
   "execution_count": null,
   "id": "5fb6dcbc-f252-4a78-8d5c-9567b0502fdb",
   "metadata": {},
   "outputs": [],
   "source": []
  }
 ],
 "metadata": {
  "kernelspec": {
   "display_name": "Python 3",
   "language": "python",
   "name": "python3"
  },
  "language_info": {
   "codemirror_mode": {
    "name": "ipython",
    "version": 3
   },
   "file_extension": ".py",
   "mimetype": "text/x-python",
   "name": "python",
   "nbconvert_exporter": "python",
   "pygments_lexer": "ipython3",
   "version": "3.8.10"
  }
 },
 "nbformat": 4,
 "nbformat_minor": 5
}
