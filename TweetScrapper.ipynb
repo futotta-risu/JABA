{
 "cells": [
  {
   "cell_type": "markdown",
   "id": "7b9bef79",
   "metadata": {},
   "source": [
    "# Tweet Scraper\n",
    "\n",
    "Este es el notebook que usaremos para el scrapeo de datos\n"
   ]
  },
  {
   "cell_type": "markdown",
   "id": "cd7eed62",
   "metadata": {},
   "source": [
    "## Librerias\n",
    "\n",
    "Para el scrapeo usaremos las siguientes librerias:\n",
    "* Sntwitter\n",
    "* Pandas"
   ]
  },
  {
   "cell_type": "code",
   "execution_count": null,
   "id": "cdb93129",
   "metadata": {},
   "outputs": [],
   "source": [
    "import datetime\n",
    "from datetime import timedelta\n",
    "\n",
    "import snscrape.modules.twitter as snstwitter\n",
    "\n",
    "import pandas as pd\n",
    "import seaborn as sns\n",
    "\n",
    "from tqdm import tqdm\n",
    "\n",
    "from src.JATS import JATS"
   ]
  },
  {
   "cell_type": "markdown",
   "id": "bca3ab28",
   "metadata": {},
   "source": [
    "## Parametros\n",
    "\n"
   ]
  },
  {
   "cell_type": "code",
   "execution_count": null,
   "id": "5788a27f-4596-463e-ade2-9b92e4c87281",
   "metadata": {},
   "outputs": [],
   "source": [
    "from src.JATS.analyzer import Analyzer\n",
    "from nltk.corpus import stopwords\n",
    "a = Analyzer()\n",
    "from nltk.tokenize import word_tokenize\n",
    "stop_words = set(stopwords.words('english'))"
   ]
  },
  {
   "cell_type": "code",
   "execution_count": null,
   "id": "2bd0d6e6-0072-4889-be01-96908620e0cc",
   "metadata": {},
   "outputs": [],
   "source": [
    "text = \"Hi, today I hate bitcoin and all their products. Call me Mark Tyson\"\n",
    "print(\" \".join([w for w in text.split() if not w in stop_words]))"
   ]
  },
  {
   "cell_type": "code",
   "execution_count": null,
   "id": "0ec5debd-6242-4670-bf52-d829cb4d29ee",
   "metadata": {},
   "outputs": [],
   "source": [
    "%%timeit text = \"Hi, today I hate bitcoin and all their products\"\n",
    "filtered_sentence = \" \".join([w for w in text.split() if not w in stop_words])\n",
    "\n",
    "a.get_sentiment(filtered_sentence)"
   ]
  },
  {
   "cell_type": "code",
   "execution_count": null,
   "id": "feb4e4a5-384e-421d-8e99-13e62b1b7f42",
   "metadata": {},
   "outputs": [],
   "source": [
    "%%timeit text = \"Hi, today I hate bitcoin and all their products\"\n",
    "a.get_sentiment(text)"
   ]
  },
  {
   "cell_type": "code",
   "execution_count": null,
   "id": "d94327ad",
   "metadata": {
    "scrolled": true
   },
   "outputs": [],
   "source": [
    "query = '\"BTC\" OR \"bitcoin\"'\n",
    "\n",
    "date_from = datetime.date(2018, 4, 1)\n",
    "date_until = datetime.date(2018, 4, 30)\n",
    "\n",
    "tweet_list = JATS.get_tweets(query, date_from, date_until, verbose = True)"
   ]
  },
  {
   "cell_type": "code",
   "execution_count": null,
   "id": "23d3d038-e43a-4900-9418-c2a6e0d28800",
   "metadata": {},
   "outputs": [],
   "source": [
    "columnNames = [\n",
    "    'Datetime',\n",
    "    'Tweet Id',\n",
    "    'Text', \n",
    "    'NumReplies',\n",
    "    'NumRetweets',\n",
    "    'NumLikes', \n",
    "    'IDOriginalRetweeted', \n",
    "    'Username',\n",
    "    'isVerified'\n",
    "]\n",
    "tweet_df = pd.DataFrame(tweet_list, columns=columnNames)"
   ]
  },
  {
   "cell_type": "markdown",
   "id": "4a9cbdd8",
   "metadata": {},
   "source": [
    "### Lectura de ficheros ya existentes"
   ]
  },
  {
   "cell_type": "code",
   "execution_count": null,
   "id": "4d8f2a66",
   "metadata": {},
   "outputs": [],
   "source": [
    "file_name = \"data/tweets/2018-03-02/2018-03-03/tweet_list.csv\"\n",
    "tweet_df = pd.read_csv(file_name, sep=';')\n",
    "\n",
    "tweet_df[\"Datetime\"] = pd.to_datetime(tweet_df[\"Datetime\"])"
   ]
  },
  {
   "cell_type": "markdown",
   "id": "563cabba",
   "metadata": {},
   "source": [
    "## Analisis de sentimientos"
   ]
  },
  {
   "cell_type": "markdown",
   "id": "29589f56",
   "metadata": {},
   "source": [
    "### Preparación del Analisis\n",
    "\n",
    "En caso de ser nuestra primera ejecución, deberemos instalar un conjunto de datasets utiles para *nltk*."
   ]
  },
  {
   "cell_type": "code",
   "execution_count": null,
   "id": "8e453004",
   "metadata": {},
   "outputs": [],
   "source": [
    "from src.JATS.analyzer import Analyzer"
   ]
  },
  {
   "cell_type": "markdown",
   "id": "50216e2c",
   "metadata": {},
   "source": [
    "## Analisis de Sentimiento\n",
    "\n",
    "Eliminaremos los valores nulos ya que parece que cuando el algoritmo no es capaz de determinar el sentimiento, tiende a ponerle un 0, creando una desviación del sentimiento real.\n",
    "\n",
    "Lo primero que haremos será mostrar la **media del sentimiento** y una **gráfica de distribución del sentimiento**."
   ]
  },
  {
   "cell_type": "code",
   "execution_count": null,
   "id": "343e0989",
   "metadata": {},
   "outputs": [],
   "source": [
    "a = Analyzer()"
   ]
  },
  {
   "cell_type": "code",
   "execution_count": null,
   "id": "c8112b3a",
   "metadata": {},
   "outputs": [],
   "source": [
    "a.analyze(tweet_df, \"data/tweets/2018-04-01/2018-04-02\") # Saved to a CSV"
   ]
  },
  {
   "cell_type": "markdown",
   "id": "dd439c56-8346-41de-80a5-0efc9f96c27c",
   "metadata": {},
   "source": [
    "## Analisis de Similitudes\n",
    "\n",
    "Tenemos que comprobar la existencia de tweets similares para evitar el SPAM que existe en mensajes que no son completamente identicos.\n",
    "\n",
    "Para ellos haremos uso de la metrica de similitud Cosine Similarity y despues aplicaremos un DBScan para asignar clusters a esos tweets. Estas\n",
    "funciones vienes predefinidas en el analyzer por lo que solo sera necesario llamar a la funcion **analyze_similarity(tweet_df)**"
   ]
  },
  {
   "cell_type": "code",
   "execution_count": null,
   "id": "bc92c1ce-3f42-478d-a687-4230483a5ef7",
   "metadata": {},
   "outputs": [],
   "source": [
    "analyzed_tweet_df = a.analyze_similarity(tweet_df)\n",
    "print(analyzed_tweet_df['Prediction'].value_counts())"
   ]
  }
 ],
 "metadata": {
  "kernelspec": {
   "display_name": "Python 3",
   "language": "python",
   "name": "python3"
  },
  "language_info": {
   "codemirror_mode": {
    "name": "ipython",
    "version": 3
   },
   "file_extension": ".py",
   "mimetype": "text/x-python",
   "name": "python",
   "nbconvert_exporter": "python",
   "pygments_lexer": "ipython3",
   "version": "3.8.8"
  }
 },
 "nbformat": 4,
 "nbformat_minor": 5
}
