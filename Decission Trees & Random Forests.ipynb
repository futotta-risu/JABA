{
 "cells": [
  {
   "cell_type": "markdown",
   "id": "8ec160e7-3dbb-4424-8483-bd84c4f3152a",
   "metadata": {},
   "source": [
    "# Decission Trees & Random Forests"
   ]
  },
  {
   "cell_type": "markdown",
   "id": "15c251c7-cc7b-4cfe-a3e4-01ec6af7ad9d",
   "metadata": {},
   "source": [
    "En este notebook haremos uso de los Decission Trees & Random Forests para intentar predecir el precio en base al sentimiento.\n"
   ]
  },
  {
   "cell_type": "markdown",
   "id": "103f26a6-95dc-48a0-a811-0bf45c52ee42",
   "metadata": {},
   "source": [
    "## Imports"
   ]
  },
  {
   "cell_type": "code",
   "execution_count": 14,
   "id": "e9a4707c-2aae-4477-89fa-d5fbd5734800",
   "metadata": {},
   "outputs": [],
   "source": [
    "import pandas as pd\n",
    "import matplotlib\n",
    "import matplotlib.pyplot as plt\n",
    "import seaborn as sns\n",
    "import numpy as np\n",
    "import statsmodels.api as sm\n",
    "import scipy.stats as stats\n",
    "import datetime\n",
    "\n",
    "from pprint import pprint\n",
    "\n",
    "from sklearn.model_selection import cross_val_score,  GridSearchCV, KFold, StratifiedKFold, RandomizedSearchCV\n",
    "from sklearn.ensemble import RandomForestRegressor\n",
    "from sklearn.metrics import mean_squared_error, r2_score\n",
    "\n",
    "from JABA.utils import DFPicker"
   ]
  },
  {
   "cell_type": "markdown",
   "id": "5a3b1994-9fbf-44ae-9ff1-ef5277230253",
   "metadata": {},
   "source": [
    "### Pick the data"
   ]
  },
  {
   "cell_type": "markdown",
   "id": "f759daae-3ed9-4a9c-bce0-05ab1b0b1cf1",
   "metadata": {},
   "source": [
    "Haremos uso de la funcion **get_complete_df(dateFrom, dateTo)** de **DFPicker** para recopilar los datos de las fechas de las que queremos realizar la observacion"
   ]
  },
  {
   "cell_type": "code",
   "execution_count": 9,
   "id": "6a420683-a4c9-4676-aeb8-3ca22604f3d2",
   "metadata": {},
   "outputs": [
    {
     "name": "stdout",
     "output_type": "stream",
     "text": [
      "C:\\Users\\User\\Documents\\GitHub\\JABA\n",
      "JABA/data/tweets/2018-03-03/sentiment_file_nltk.csv\n"
     ]
    }
   ],
   "source": [
    "df = DFPicker.get_complete_df(datetime.date(2018, 3, 2),datetime.date(2018, 3, 4))\n",
    "price = df['Open']\n",
    "sentiment = df['sentiment']"
   ]
  },
  {
   "cell_type": "markdown",
   "id": "4e2d2a4d-9cfb-4842-af77-d8baa74d76ad",
   "metadata": {},
   "source": [
    "### Model Evaluation"
   ]
  },
  {
   "cell_type": "markdown",
   "id": "0cd13f8d-5581-4b59-8acf-66086c5d02c3",
   "metadata": {},
   "source": [
    "#### 1- RandomForest Regressor"
   ]
  },
  {
   "cell_type": "code",
   "execution_count": 12,
   "id": "207ae206-4cd6-4f77-92bf-f5bb03d3a4b6",
   "metadata": {},
   "outputs": [
    {
     "name": "stdout",
     "output_type": "stream",
     "text": [
      "Training set has 2304 samples.\n",
      "Testing set has 576 samples.\n"
     ]
    }
   ],
   "source": [
    "price_normalized = np.log1p(price)\n",
    "X_train, X_test, y_train, y_test = DFPicker.train_test_splitter(sentiment, price_normalized, 0.2)\n"
   ]
  },
  {
   "cell_type": "code",
   "execution_count": 13,
   "id": "a21d9e77-c343-4000-a1a6-281e4b7035cc",
   "metadata": {},
   "outputs": [
    {
     "name": "stdout",
     "output_type": "stream",
     "text": [
      "Modelo RandomForestRegressor: Error medio y desviación 0.00052 +/- 0.000029\n"
     ]
    }
   ],
   "source": [
    "kf = KFold(5, shuffle=True, random_state = 42).get_n_splits(sentiment)\n",
    "result = cross_val_score(RandomForestRegressor(), X_train, y_train, scoring='neg_mean_squared_error', cv=kf,n_jobs=-1)\n",
    "print('Modelo {}: Error medio y desviación {:.5f} +/- {:5f}'.format(RandomForestRegressor.__name__, -result.mean(), result.std()))"
   ]
  },
  {
   "cell_type": "markdown",
   "id": "50a803ae-f150-493d-ac82-65d1ae841dbc",
   "metadata": {},
   "source": [
    "#### 2- Grid Search"
   ]
  },
  {
   "cell_type": "markdown",
   "id": "4d208a7c-4b2c-4515-b269-4ed847ef9d1f",
   "metadata": {},
   "source": [
    "Observar los parametros de los que esta haciendo uso el Random Forest Regressor"
   ]
  },
  {
   "cell_type": "code",
   "execution_count": 15,
   "id": "fb6b6b73-25a3-4af4-b511-78197c18bdbc",
   "metadata": {},
   "outputs": [
    {
     "name": "stdout",
     "output_type": "stream",
     "text": [
      "Parameters currently in use: \n",
      "\n",
      "{'bootstrap': True,\n",
      " 'ccp_alpha': 0.0,\n",
      " 'criterion': 'mse',\n",
      " 'max_depth': None,\n",
      " 'max_features': 'auto',\n",
      " 'max_leaf_nodes': None,\n",
      " 'max_samples': None,\n",
      " 'min_impurity_decrease': 0.0,\n",
      " 'min_impurity_split': None,\n",
      " 'min_samples_leaf': 1,\n",
      " 'min_samples_split': 2,\n",
      " 'min_weight_fraction_leaf': 0.0,\n",
      " 'n_estimators': 100,\n",
      " 'n_jobs': None,\n",
      " 'oob_score': False,\n",
      " 'random_state': 42,\n",
      " 'verbose': 0,\n",
      " 'warm_start': False}\n"
     ]
    }
   ],
   "source": [
    "rf = RandomForestRegressor(random_state=42)\n",
    "print('Parameters currently in use: \\n')\n",
    "pprint(rf.get_params())"
   ]
  },
  {
   "cell_type": "markdown",
   "id": "5522fd42-7613-43bb-9063-ee2e9d5f6649",
   "metadata": {},
   "source": [
    "Delimitar los valores de estos parametros para el GridSearch"
   ]
  },
  {
   "cell_type": "code",
   "execution_count": 37,
   "id": "94b69692-ff35-4c54-a62b-c416fcfc0fc3",
   "metadata": {},
   "outputs": [],
   "source": [
    "n_estimators = [int(x) for x in np.linspace(start = 10, stop=3000,num=10)]\n",
    "max_features = ['auto', 'sqrt']\n",
    "max_depth = [int(x) for x in np.linspace(10, 1000, num=10)]\n",
    "max_depth.append(None)\n",
    "min_samples_split = range(1,20)\n",
    "min_samples_leaf = range(1,20)\n",
    "bootstrap = [True, False]\n",
    "\n",
    "random_grid = {'n_estimators': n_estimators,\n",
    "        'max_features': max_features,\n",
    "        'max_depth': max_depth,\n",
    "        'min_samples_split': min_samples_split,\n",
    "        'min_samples_leaf': min_samples_leaf,\n",
    "        'bootstrap': bootstrap}"
   ]
  },
  {
   "cell_type": "markdown",
   "id": "7a6b8914-cfd1-43a8-9d9b-9e328f6d4e3c",
   "metadata": {},
   "source": [
    "Crear Randomized Search"
   ]
  },
  {
   "cell_type": "code",
   "execution_count": 38,
   "id": "bdf71a93-3094-4fba-8516-ccb2133a69df",
   "metadata": {},
   "outputs": [
    {
     "name": "stdout",
     "output_type": "stream",
     "text": [
      "Fitting 3 folds for each of 10 candidates, totalling 30 fits\n"
     ]
    },
    {
     "name": "stderr",
     "output_type": "stream",
     "text": [
      "C:\\Users\\User\\anaconda3\\envs\\Saturdays\\lib\\site-packages\\sklearn\\model_selection\\_search.py:880: DataConversionWarning: A column-vector y was passed when a 1d array was expected. Please change the shape of y to (n_samples,), for example using ravel().\n",
      "  self.best_estimator_.fit(X, y, **fit_params)\n"
     ]
    },
    {
     "data": {
      "text/plain": [
       "RandomizedSearchCV(cv=3, estimator=RandomForestRegressor(random_state=42),\n",
       "                   n_jobs=-1,\n",
       "                   param_distributions={'bootstrap': [True, False],\n",
       "                                        'max_depth': [10, 120, 230, 340, 450,\n",
       "                                                      560, 670, 780, 890, 1000,\n",
       "                                                      None],\n",
       "                                        'max_features': ['auto', 'sqrt'],\n",
       "                                        'min_samples_leaf': range(1, 20),\n",
       "                                        'min_samples_split': range(1, 20),\n",
       "                                        'n_estimators': [10, 342, 674, 1006,\n",
       "                                                         1338, 1671, 2003, 2335,\n",
       "                                                         2667, 3000]},\n",
       "                   random_state=42, verbose=2)"
      ]
     },
     "execution_count": 38,
     "metadata": {},
     "output_type": "execute_result"
    }
   ],
   "source": [
    "rf_random = RandomizedSearchCV(estimator=rf, param_distributions = random_grid, n_iter=10, cv = 3, verbose=2, random_state=42, n_jobs=-1)\n",
    "rf_random.fit(X_train, y_train)"
   ]
  },
  {
   "cell_type": "markdown",
   "id": "b9692c40-bc2d-4e06-a726-27ec8bcc8293",
   "metadata": {},
   "source": [
    "Metricas de Error"
   ]
  },
  {
   "cell_type": "code",
   "execution_count": 39,
   "id": "04b8028c-afee-46f2-beb6-4210b825e303",
   "metadata": {},
   "outputs": [
    {
     "name": "stdout",
     "output_type": "stream",
     "text": [
      "MSE Train 0.0002721160995284901\n",
      "MSE Test 0.0004458258821162942\n",
      "R2 Train 0.2693237835712087\n",
      "R2 Test -0.11588270903496278\n"
     ]
    }
   ],
   "source": [
    "y_pred_train = rf_random.predict(X_train)\n",
    "y_pred_test = rf_random.predict(X_test)\n",
    "print(\"MSE Train\", mean_squared_error(y_train, y_pred_train))\n",
    "print(\"MSE Test\", mean_squared_error(y_test, y_pred_test))\n",
    "print(\"R2 Train\", r2_score(y_train, y_pred_train))\n",
    "print(\"R2 Test\", r2_score(y_test, y_pred_test))"
   ]
  },
  {
   "cell_type": "code",
   "execution_count": null,
   "id": "e213901c-ecb4-490b-98ed-6e252ee2dccc",
   "metadata": {},
   "outputs": [],
   "source": []
  },
  {
   "cell_type": "code",
   "execution_count": null,
   "id": "b32948f3-b88d-4939-8b3a-c98bc51f6ef3",
   "metadata": {},
   "outputs": [],
   "source": []
  }
 ],
 "metadata": {
  "kernelspec": {
   "display_name": "Python 3",
   "language": "python",
   "name": "python3"
  },
  "language_info": {
   "codemirror_mode": {
    "name": "ipython",
    "version": 3
   },
   "file_extension": ".py",
   "mimetype": "text/x-python",
   "name": "python",
   "nbconvert_exporter": "python",
   "pygments_lexer": "ipython3",
   "version": "3.8.8"
  }
 },
 "nbformat": 4,
 "nbformat_minor": 5
}
