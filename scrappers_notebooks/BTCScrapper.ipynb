{
 "cells": [
  {
   "cell_type": "markdown",
   "id": "b1803c64-3d22-4ff5-a73c-6f673c8c262d",
   "metadata": {},
   "source": [
    "# Bitcoin Scrapper\n",
    "\n",
    "En este notebook realizaremos la recojida de datos del precio historico del Bitcoin, las consultas se realizaran a la API de Binance."
   ]
  },
  {
   "cell_type": "code",
   "execution_count": null,
   "id": "ba0a6db6-841e-4a43-9d47-3bdd04ed0ef2",
   "metadata": {},
   "outputs": [],
   "source": [
    "from JABA.utils import BTCScrapper\n",
    "import datetime\n",
    "timeStart = datetime.datetime.now()\n",
    "data = BTCScrapper.get_all_binance(\"BTCUSDT\", \"1m\", save = True)\n",
    "timeEnd = datetime.datetime.now()\n",
    "print(timeEnd - timeStart)\n",
    "print(data.head())\n",
    "print(data.tail())"
   ]
  }
 ],
 "metadata": {
  "kernelspec": {
   "display_name": "Python 3",
   "language": "python",
   "name": "python3"
  },
  "language_info": {
   "codemirror_mode": {
    "name": "ipython",
    "version": 3
   },
   "file_extension": ".py",
   "mimetype": "text/x-python",
   "name": "python",
   "nbconvert_exporter": "python",
   "pygments_lexer": "ipython3",
   "version": "3.8.10"
  }
 },
 "nbformat": 4,
 "nbformat_minor": 5
}
