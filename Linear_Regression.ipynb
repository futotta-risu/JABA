{
 "cells": [
  {
   "cell_type": "markdown",
   "id": "e7f85a46-f51a-44c4-bebf-a33d115d89c2",
   "metadata": {},
   "source": [
    "# Linear Regression"
   ]
  },
  {
   "cell_type": "markdown",
   "id": "8c77a7e0-93e7-49a4-890a-438902ab85c2",
   "metadata": {},
   "source": [
    "En este Notebook aplicaremos el modelo de regresion lineal para predecir el precio del bitcoin en base al sentimiento en twitter en ese instante."
   ]
  },
  {
   "cell_type": "markdown",
   "id": "19f0c03c-1e4a-4169-b2f2-e02190929344",
   "metadata": {},
   "source": [
    "## Imports"
   ]
  },
  {
   "cell_type": "code",
   "execution_count": 1,
   "id": "4bd85eb7-101c-4bb4-9e5c-e8f2dbd50250",
   "metadata": {},
   "outputs": [],
   "source": [
    "import datetime\n",
    "import numpy as np\n",
    "import pandas as pd\n",
    "\n",
    "from sklearn.model_selection import train_test_split\n",
    "from sklearn.metrics import mean_squared_error, r2_score\n",
    "from sklearn.linear_model import LinearRegression, Lasso, Ridge\n",
    "from sklearn.preprocessing import Normalizer, MinMaxScaler\n",
    "\n",
    "import matplotlib.pylab as plt\n",
    "%matplotlib inline \n",
    "\n",
    "from JABA.service.scrapper import DFPicker"
   ]
  },
  {
   "cell_type": "markdown",
   "id": "cc234e0d-af90-472b-aaa6-231dc382bb95",
   "metadata": {},
   "source": [
    "### Pick the data"
   ]
  },
  {
   "cell_type": "markdown",
   "id": "f90b31d4-4a71-4524-ac60-8740dd198352",
   "metadata": {},
   "source": [
    "Haremos uso de la funcion **get_complete_df(dateFrom, dateTo)** de **DFPicker** para recopilar los datos de las fechas de las que queremos realizar la observacion"
   ]
  },
  {
   "cell_type": "code",
   "execution_count": 2,
   "id": "fc569fdf-f95a-4ee4-857f-eb6cf5c1b7a6",
   "metadata": {},
   "outputs": [
    {
     "name": "stdout",
     "output_type": "stream",
     "text": [
      "Extraction Completed!\n"
     ]
    }
   ],
   "source": [
    "date_init = \"2017-01-02\"\n",
    "date_limit = \"2017-02-02\"\n",
    "df = DFPicker.get_complete_df(date_init, date_limit)\n",
    "price = df['Close']\n",
    "sentiment = df.loc[:,'sentiment_v':'sentiment_v2']\n"
   ]
  },
  {
   "cell_type": "code",
   "execution_count": 3,
   "id": "917469ad-7ddd-477b-a74c-f818ec48e73f",
   "metadata": {},
   "outputs": [
    {
     "name": "stdout",
     "output_type": "stream",
     "text": [
      "(1488,)\n",
      "(1488, 3)\n"
     ]
    }
   ],
   "source": [
    "print(price.shape)\n",
    "print(sentiment.shape)"
   ]
  },
  {
   "cell_type": "markdown",
   "id": "98b36c12-b73a-4fbe-b00d-c0e5956a0c10",
   "metadata": {},
   "source": [
    "### Remove Outliers"
   ]
  },
  {
   "cell_type": "code",
   "execution_count": 4,
   "id": "6a7707db-56fb-4b76-8abe-3d53a9e39ef0",
   "metadata": {},
   "outputs": [],
   "source": [
    "def remove_outliers(data):\n",
    "    # For each feature find the data points with extreme high or low values\n",
    "    mios = pd.Series([False])\n",
    "    mios = mios.repeat(data.shape[0]).reset_index(drop=True)\n",
    "\n",
    "    for feature in data.keys():\n",
    "\n",
    "        # Calculate Q1 (25th percentile of the data) for the given feature\n",
    "        Q1 = np.percentile(data[feature], q=25)\n",
    "\n",
    "        # Calculate Q3 (75th percentile of the data) for the given feature\n",
    "        Q3 = np.percentile(data[feature], q=75)\n",
    "\n",
    "        # Use the interquartile range to calculate an outlier step (1.5 times the interquartile range)\n",
    "        interquartile_range = Q3 - Q1\n",
    "        step = 1.5 * interquartile_range\n",
    "\n",
    "        # Display the outliers\n",
    "        print(\"Data points considered outliers for the feature '{}':\".format(feature))\n",
    "        display(data[~((data[feature] >= Q1 - step) & (data[feature] <= Q3 + step))])\n",
    "        aux = ~((data[feature] >= Q1 - step) & (data[feature] <= Q3 + step))\n",
    "        mios = mios | aux\n",
    "\n",
    "    # Meaning of ~ character in Python: https://docs.python.org/3/reference/expressions.html#unary-arithmetic-and-bitwise-operations\n",
    "\n",
    "    # OPTIONAL: Select the indices for data points you wish to remove\n",
    "    outliers  = []\n",
    "    outliers = mios\n",
    "    # Remove the outliers, if any were specified\n",
    "    good_data = data.drop(data.index[outliers]).reset_index(drop = True)\n",
    "    \n",
    "    return good_data"
   ]
  },
  {
   "cell_type": "markdown",
   "id": "b1274dac-e639-4675-8c5c-ad0ac5a5f08b",
   "metadata": {},
   "source": [
    "### Model Evaluation"
   ]
  },
  {
   "cell_type": "markdown",
   "id": "9abf7aa7-5d62-4c0b-8744-e8e71cf37f6d",
   "metadata": {},
   "source": [
    "#### 1- Prueba standard de modelos"
   ]
  },
  {
   "cell_type": "code",
   "execution_count": 12,
   "id": "3e099b35-4e19-4135-ba2f-0dc20bb7950b",
   "metadata": {},
   "outputs": [
    {
     "name": "stdout",
     "output_type": "stream",
     "text": [
      "Training set has 1190 samples.\n",
      "Testing set has 298 samples.\n",
      "Linear RMSE: 61.59889840270662\n",
      "Accuracy Linear: 0.202132716935155\n",
      "R2 Linear: 0.202132716935155\n",
      "\n",
      "Lasso RMSE: 61.621840802404584\n",
      "Accuracy Lasso: 0.2015382777675988\n",
      "R2 Lasso: 0.2015382777675988\n",
      "\n",
      "Ridge RMSE: 61.59892361739\n",
      "Accuracy Ridge: 0.20213206374246617\n",
      "R2 Ridge: 0.20213206374246617\n",
      "\n"
     ]
    }
   ],
   "source": [
    "X_train, X_test, y_train, y_test = DFPicker.train_test_splitter(sentiment, price, 0.2)\n",
    "\n",
    "########  LINEAR REGRESSION  ########      \n",
    "model = LinearRegression()\n",
    "model.fit(X_train, y_train)\n",
    "y_pred = model.predict(X_test)\n",
    "rmse = np.sqrt(mean_squared_error(y_test, y_pred))\n",
    "print(\"Linear RMSE: {}\".format(rmse))\n",
    "accuracy = model.score(X_test,y_test)\n",
    "print(\"Accuracy Linear: {}\".format(accuracy))\n",
    "R2 = r2_score(y_test, y_pred)\n",
    "print(\"R2 Linear: {}\".format(R2))\n",
    "print(\"\")\n",
    "\n",
    "########  lASSO  ########      \n",
    "model2 = Lasso()\n",
    "model2.fit(X=X_train, y=y_train)\n",
    "y_pred2 = model2.predict(X_test)\n",
    "rmse_lasso = np.sqrt(mean_squared_error(y_test, y_pred2))\n",
    "print(\"Lasso RMSE: {}\".format(rmse_lasso))\n",
    "accuracy_lasso = model2.score(X_test,y_test)\n",
    "print(\"Accuracy Lasso: {}\".format(accuracy_lasso))\n",
    "R2_lasso = r2_score(y_test, y_pred2)\n",
    "print(\"R2 Lasso: {}\".format(R2_lasso))\n",
    "print(\"\")\n",
    "\n",
    "########  RIDGE  ########      \n",
    "model_ridge = Ridge()\n",
    "model_ridge.fit(X=X_train, y=y_train)\n",
    "y_pred_ridge = model_ridge.predict(X_test)\n",
    "rmse_ridge = np.sqrt(mean_squared_error(y_test, y_pred_ridge))\n",
    "print(\"Ridge RMSE: {}\".format(rmse_ridge))\n",
    "accuracy_ridge = model_ridge.score(X_test,y_test)\n",
    "print(\"Accuracy Ridge: {}\".format(accuracy_ridge))\n",
    "R2_ridge = r2_score(y_test, y_pred_ridge)\n",
    "print(\"R2 Ridge: {}\".format(R2_ridge))\n",
    "print(\"\")\n"
   ]
  },
  {
   "cell_type": "markdown",
   "id": "2d014da7-ba2c-4f2c-9f7e-4e98feef55a8",
   "metadata": {},
   "source": [
    "#### 2- Normalized Data"
   ]
  },
  {
   "cell_type": "code",
   "execution_count": 14,
   "id": "3e19bcc1-59bf-42c2-92f4-e98a2d2600dd",
   "metadata": {},
   "outputs": [
    {
     "name": "stdout",
     "output_type": "stream",
     "text": [
      "Training set has 1190 samples.\n",
      "Testing set has 298 samples.\n",
      "Linear RMSE: 0.06762843659261392\n",
      "Accuracy Linear: 0.18965258493756398\n",
      "R2 Linear: 0.18965258493756398\n",
      "\n",
      "Lasso RMSE: 0.07475435170445925\n",
      "Accuracy Lasso: 0.009885285733739368\n",
      "R2 Lasso: 0.009885285733739368\n",
      "\n",
      "Ridge RMSE: 0.06762846003857126\n",
      "Accuracy Ridge: 0.18965202306225926\n",
      "R2 Ridge: 0.18965202306225926\n",
      "\n"
     ]
    }
   ],
   "source": [
    "price_normalized = np.log1p(price)\n",
    "\n",
    "X_train, X_test, y_train, y_test = DFPicker.train_test_splitter(sentiment, price_normalized, 0.2)\n",
    "\n",
    "########  LINEAR REGRESSION  ########      \n",
    "model = LinearRegression()\n",
    "model.fit(X_train, y_train)\n",
    "y_pred = model.predict(X_test)\n",
    "rmse = np.sqrt(mean_squared_error(y_test, y_pred))\n",
    "print(\"Linear RMSE: {}\".format(rmse))\n",
    "accuracy = model.score(X_test,y_test)\n",
    "print(\"Accuracy Linear: {}\".format(accuracy))\n",
    "R2 = r2_score(y_test, y_pred)\n",
    "print(\"R2 Linear: {}\".format(R2))\n",
    "print(\"\")\n",
    "\n",
    "########  lASSO  ########      \n",
    "model2 = Lasso()\n",
    "model2.fit(X=X_train, y=y_train)\n",
    "y_pred2 = model2.predict(X_test)\n",
    "rmse_lasso = np.sqrt(mean_squared_error(y_test, y_pred2))\n",
    "print(\"Lasso RMSE: {}\".format(rmse_lasso))\n",
    "accuracy_lasso = model2.score(X_test,y_test)\n",
    "print(\"Accuracy Lasso: {}\".format(accuracy_lasso))\n",
    "R2_lasso = r2_score(y_test, y_pred2)\n",
    "print(\"R2 Lasso: {}\".format(R2_lasso))\n",
    "print(\"\")\n",
    "\n",
    "########  RIDGE  ########      \n",
    "model_ridge = Ridge()\n",
    "model_ridge.fit(X=X_train, y=y_train)\n",
    "y_pred_ridge = model_ridge.predict(X_test)\n",
    "rmse_ridge = np.sqrt(mean_squared_error(y_test, y_pred_ridge))\n",
    "print(\"Ridge RMSE: {}\".format(rmse_ridge))\n",
    "accuracy_ridge = model_ridge.score(X_test,y_test)\n",
    "print(\"Accuracy Ridge: {}\".format(accuracy_ridge))\n",
    "R2_ridge = r2_score(y_test, y_pred_ridge)\n",
    "print(\"R2 Ridge: {}\".format(R2_ridge))\n",
    "print(\"\")\n"
   ]
  },
  {
   "cell_type": "markdown",
   "id": "707d0edb-0404-4756-9b68-ac81afb3a28f",
   "metadata": {},
   "source": [
    "#### 3- Sin outliers y con escalado"
   ]
  },
  {
   "cell_type": "code",
   "execution_count": 15,
   "id": "de829f7f-12fd-4540-aa24-5bb0f4ff2738",
   "metadata": {},
   "outputs": [
    {
     "name": "stdout",
     "output_type": "stream",
     "text": [
      "Training set has 1190 samples.\n",
      "Testing set has 298 samples.\n",
      "Linear RMSE: 0.1653738654578288\n",
      "Accuracy Linear: 0.20213271693515522\n",
      "R2 Linear: 0.20213271693515522\n",
      "\n",
      "Lasso RMSE: 0.17919356176965393\n",
      "Accuracy Lasso: 0.06321116663912818\n",
      "R2 Lasso: 0.06321116663912818\n",
      "\n",
      "Ridge RMSE: 0.16537393315140397\n",
      "Accuracy Ridge: 0.20213206374246617\n",
      "R2 Ridge: 0.20213206374246617\n",
      "\n"
     ]
    }
   ],
   "source": [
    "price_reshaped = price.values.reshape(-1,1)\n",
    "transformer = MinMaxScaler().fit(price_reshaped)\n",
    "price_scaled = transformer.transform(price_reshaped)\n",
    "\n",
    "X_train, X_test, y_train, y_test = DFPicker.train_test_splitter(sentiment, price_scaled, 0.2)\n",
    "\n",
    "########  LINEAR REGRESSION  ########      \n",
    "model = LinearRegression()\n",
    "model.fit(X_train, y_train)\n",
    "y_pred = model.predict(X_test)\n",
    "rmse = np.sqrt(mean_squared_error(y_test, y_pred))\n",
    "print(\"Linear RMSE: {}\".format(rmse))\n",
    "accuracy = model.score(X_test,y_test)\n",
    "print(\"Accuracy Linear: {}\".format(accuracy))\n",
    "R2 = r2_score(y_test, y_pred)\n",
    "print(\"R2 Linear: {}\".format(R2))\n",
    "print(\"\")\n",
    "\n",
    "########  lASSO  ########      \n",
    "model2 = Lasso()\n",
    "model2.fit(X=X_train, y=y_train)\n",
    "y_pred2 = model2.predict(X_test)\n",
    "rmse_lasso = np.sqrt(mean_squared_error(y_test, y_pred2))\n",
    "print(\"Lasso RMSE: {}\".format(rmse_lasso))\n",
    "accuracy_lasso = model2.score(X_test,y_test)\n",
    "print(\"Accuracy Lasso: {}\".format(accuracy_lasso))\n",
    "R2_lasso = r2_score(y_test, y_pred2)\n",
    "print(\"R2 Lasso: {}\".format(R2_lasso))\n",
    "print(\"\")\n",
    "\n",
    "########  RIDGE  ########      \n",
    "model_ridge = Ridge()\n",
    "model_ridge.fit(X=X_train, y=y_train)\n",
    "y_pred_ridge = model_ridge.predict(X_test)\n",
    "rmse_ridge = np.sqrt(mean_squared_error(y_test, y_pred_ridge))\n",
    "print(\"Ridge RMSE: {}\".format(rmse_ridge))\n",
    "accuracy_ridge = model_ridge.score(X_test,y_test)\n",
    "print(\"Accuracy Ridge: {}\".format(accuracy_ridge))\n",
    "R2_ridge = r2_score(y_test, y_pred_ridge)\n",
    "print(\"R2 Ridge: {}\".format(R2_ridge))\n",
    "print(\"\")\n"
   ]
  },
  {
   "cell_type": "code",
   "execution_count": null,
   "id": "ce6d143c-6215-4b63-8570-0525216f1f91",
   "metadata": {},
   "outputs": [],
   "source": []
  }
 ],
 "metadata": {
  "kernelspec": {
   "display_name": "Python 3",
   "language": "python",
   "name": "python3"
  },
  "language_info": {
   "codemirror_mode": {
    "name": "ipython",
    "version": 3
   },
   "file_extension": ".py",
   "mimetype": "text/x-python",
   "name": "python",
   "nbconvert_exporter": "python",
   "pygments_lexer": "ipython3",
   "version": "3.8.8"
  }
 },
 "nbformat": 4,
 "nbformat_minor": 5
}
