{
 "cells": [
  {
   "cell_type": "markdown",
   "id": "7b9bef79",
   "metadata": {},
   "source": [
    "# **Global Sentiment**\n",
    "\n",
    "Este es el notebook que usaremos para el scrapeo de datos\n"
   ]
  },
  {
   "cell_type": "code",
   "execution_count": 1,
   "id": "cdb93129",
   "metadata": {},
   "outputs": [],
   "source": [
    "import datetime\n",
    "from datetime import timedelta\n",
    "\n",
    "import os\n",
    "import re\n",
    "\n",
    "import snscrape.modules.twitter as snstwitter\n",
    "\n",
    "import pandas as pd\n",
    "import seaborn as sns\n",
    "import numpy as np"
   ]
  },
  {
   "cell_type": "markdown",
   "id": "b3216cd1-6de3-420d-9707-a9cc4633e4a8",
   "metadata": {},
   "source": [
    "## **Parameter Settings**"
   ]
  },
  {
   "cell_type": "code",
   "execution_count": 2,
   "id": "7be423b0-c422-41cd-add6-069aa9ce1886",
   "metadata": {},
   "outputs": [],
   "source": [
    "date_init = \"2017-01-02\"\n",
    "date_limit = \"2021-05-15\""
   ]
  },
  {
   "cell_type": "markdown",
   "id": "07a3fab3-aae3-45dc-ab9d-49f52eed160b",
   "metadata": {},
   "source": [
    "## **Read Databases**"
   ]
  },
  {
   "cell_type": "code",
   "execution_count": 3,
   "id": "55d9f863-6f77-4b42-a164-e7ee56a677cd",
   "metadata": {},
   "outputs": [],
   "source": [
    "t_path = \"JABA/data/tweets\"\n",
    "t_file = \"tweet_list.csv\"\n",
    "s_file = \"tweet_sentiment_nltk.csv\""
   ]
  },
  {
   "cell_type": "markdown",
   "id": "db108986-70a6-4b79-9d23-110ab8cbfa16",
   "metadata": {},
   "source": [
    "La base de datos esta formada por millones de filas y no usaremos todas las columnas, por lo que, para acelerar el proceso, eliminaremos las columnas no usadas.\n",
    "\n",
    "En este caso, ademas, la columna Text, es la columna con mayor peso en memoria, por lo que eliminarla aligerara la carga en RAM."
   ]
  },
  {
   "cell_type": "code",
   "execution_count": 33,
   "id": "e81d60f3-c213-4ae4-b128-b369f9fd0bfb",
   "metadata": {},
   "outputs": [
    {
     "data": {
      "text/plain": [
       "'2017-01-02'"
      ]
     },
     "execution_count": 33,
     "metadata": {},
     "output_type": "execute_result"
    }
   ],
   "source": [
    "str(datetime.datetime.strptime(date_init, '%Y-%m-%d').date())"
   ]
  },
  {
   "cell_type": "code",
   "execution_count": 59,
   "id": "3f41e6be-1d85-41a0-b76c-948ac4440715",
   "metadata": {},
   "outputs": [
    {
     "data": {
      "text/plain": [
       "'JABA/data/tweets'"
      ]
     },
     "execution_count": 59,
     "metadata": {},
     "output_type": "execute_result"
    }
   ],
   "source": [
    "t_path"
   ]
  },
  {
   "cell_type": "code",
   "execution_count": 34,
   "id": "a1859960-66dd-4984-8fc9-f0559b4376f0",
   "metadata": {},
   "outputs": [],
   "source": [
    "unused_columns = ['Text', 'Tweet Id', 'NumReplies', 'NumRetweets', 'IDOriginalRetweeted', 'isVerified'  ]\n",
    "\n",
    "def drop_unused_columns(dataframe):\n",
    "    return dataframe.drop(unused_columns,  axis=1)\n",
    "\n",
    "def prepare_data(dataframe):\n",
    "    dataframe[\"Datetime\"] = pd.to_datetime(dataframe[\"Datetime\"])\n",
    "    dataframe['sentiment_v'] = ( 1 + np.log2(1 + dataframe['NumLikes']) ) * dataframe['sentiment'] \n",
    "    dataframe[\"rount_datetime\"] = dataframe[\"Datetime\"].dt.floor(\"30T\")\n",
    "    \n",
    "    dataframe[\"date\"] = dataframe[\"Datetime\"].dt.date\n",
    "    dataframe = dataframe.set_index('date')\n",
    "    \n",
    "    return dataframe.groupby(\"rount_datetime\").sum()\n",
    "    \n",
    "def get_data():\n",
    "    frames = []\n",
    "    date_from = datetime.datetime.strptime(date_init, '%Y-%m-%d').date()\n",
    "    date_until = datetime.datetime.strptime(date_limit, '%Y-%m-%d').date()\n",
    "    \n",
    "    if date_from >= date_until:\n",
    "        return pd.DataFrame()\n",
    "    \n",
    "    i = 0\n",
    "    while date_from < date_until:\n",
    "        i += 1\n",
    "        \n",
    "        folder = \"JABA/data/tweets\\\\\" + str(date_from)\n",
    "        # TODO Check if file exists\n",
    "        if i%365 == 0:\n",
    "            print(f\"Step {i} : {folder}\")\n",
    "\n",
    "        tweet_file = os.path.join(folder, t_file)\n",
    "        sentiment_file = os.path.join(folder, s_file)\n",
    "\n",
    "        tweet_df = pd.read_csv(tweet_file, sep=\";\")\n",
    "        tweet_df = drop_unused_columns(tweet_df)\n",
    "\n",
    "        sent_df = pd.read_csv(sentiment_file, sep=\";\")\n",
    "\n",
    "        tweet_df = prepare_data(tweet_df.join(sent_df))\n",
    "        \n",
    "        frames += [tweet_df]\n",
    "        \n",
    "        date_from = date_from + timedelta(days=1)\n",
    "\n",
    "    return pd.concat(frames, ignore_index=False)\n",
    "    "
   ]
  },
  {
   "cell_type": "code",
   "execution_count": 35,
   "id": "5ec7d24e-ff8a-4dcb-afae-2f4442d0bd7f",
   "metadata": {},
   "outputs": [
    {
     "name": "stdout",
     "output_type": "stream",
     "text": [
      "Step 365 : JABA/data/tweets\\2018-01-01\n",
      "Step 730 : JABA/data/tweets\\2019-01-01\n",
      "Step 1095 : JABA/data/tweets\\2020-01-01\n",
      "Step 1460 : JABA/data/tweets\\2020-12-31\n"
     ]
    }
   ],
   "source": [
    "df = get_data()"
   ]
  },
  {
   "cell_type": "code",
   "execution_count": 36,
   "id": "1b4be072-a36a-4721-9c2e-2ab363215437",
   "metadata": {},
   "outputs": [
    {
     "data": {
      "text/html": [
       "<div>\n",
       "<style scoped>\n",
       "    .dataframe tbody tr th:only-of-type {\n",
       "        vertical-align: middle;\n",
       "    }\n",
       "\n",
       "    .dataframe tbody tr th {\n",
       "        vertical-align: top;\n",
       "    }\n",
       "\n",
       "    .dataframe thead th {\n",
       "        text-align: right;\n",
       "    }\n",
       "</style>\n",
       "<table border=\"1\" class=\"dataframe\">\n",
       "  <thead>\n",
       "    <tr style=\"text-align: right;\">\n",
       "      <th></th>\n",
       "      <th>NumLikes</th>\n",
       "      <th>sentiment</th>\n",
       "      <th>sentiment_v</th>\n",
       "    </tr>\n",
       "    <tr>\n",
       "      <th>rount_datetime</th>\n",
       "      <th></th>\n",
       "      <th></th>\n",
       "      <th></th>\n",
       "    </tr>\n",
       "  </thead>\n",
       "  <tbody>\n",
       "    <tr>\n",
       "      <th>2021-05-14 21:30:00+00:00</th>\n",
       "      <td>42034</td>\n",
       "      <td>397.6480</td>\n",
       "      <td>921.485883</td>\n",
       "    </tr>\n",
       "    <tr>\n",
       "      <th>2021-05-14 22:00:00+00:00</th>\n",
       "      <td>25447</td>\n",
       "      <td>349.6222</td>\n",
       "      <td>731.962103</td>\n",
       "    </tr>\n",
       "    <tr>\n",
       "      <th>2021-05-14 22:30:00+00:00</th>\n",
       "      <td>16902</td>\n",
       "      <td>356.1691</td>\n",
       "      <td>745.702575</td>\n",
       "    </tr>\n",
       "    <tr>\n",
       "      <th>2021-05-14 23:00:00+00:00</th>\n",
       "      <td>30952</td>\n",
       "      <td>334.9281</td>\n",
       "      <td>773.327462</td>\n",
       "    </tr>\n",
       "    <tr>\n",
       "      <th>2021-05-14 23:30:00+00:00</th>\n",
       "      <td>15831</td>\n",
       "      <td>291.8743</td>\n",
       "      <td>651.716570</td>\n",
       "    </tr>\n",
       "  </tbody>\n",
       "</table>\n",
       "</div>"
      ],
      "text/plain": [
       "                           NumLikes  sentiment  sentiment_v\n",
       "rount_datetime                                             \n",
       "2021-05-14 21:30:00+00:00     42034   397.6480   921.485883\n",
       "2021-05-14 22:00:00+00:00     25447   349.6222   731.962103\n",
       "2021-05-14 22:30:00+00:00     16902   356.1691   745.702575\n",
       "2021-05-14 23:00:00+00:00     30952   334.9281   773.327462\n",
       "2021-05-14 23:30:00+00:00     15831   291.8743   651.716570"
      ]
     },
     "execution_count": 36,
     "metadata": {},
     "output_type": "execute_result"
    }
   ],
   "source": [
    "df.tail()"
   ]
  },
  {
   "cell_type": "markdown",
   "id": "6d85e4c5-b8d3-48b8-bb65-0ff65b6238df",
   "metadata": {},
   "source": [
    "## **Sentimiento Global**\n",
    "\n",
    "A la hora de trabajar con el sentimiento, se observa que el sentimiento de un grupo de personas no debería ser medido mediante la media de todos sus individuos. Al fin y al cabo, ¿es lo mismo que sea positivo para 100 personas que para 1 millón?\n",
    "\n",
    "Además de esto, es importante darse cuenta de que un mensaje positivo no es igual/tiene el mismo valor salga de quien salga. Un tweet bueno de Elon Musk vale mucho más que un tweet bueno de una cuenta sin likes. Por ello, estos deberían afectar a la valuación del sentimiento. "
   ]
  },
  {
   "cell_type": "code",
   "execution_count": 7,
   "id": "1d3701f4-048e-4332-8230-9cd3585239ef",
   "metadata": {},
   "outputs": [],
   "source": [
    "df['sentiment_v'] = ( 1 + np.log2(1 + df['NumLikes']) ) * df['sentiment'] "
   ]
  },
  {
   "cell_type": "markdown",
   "id": "a251b740-8545-44e1-886e-41fc742bf093",
   "metadata": {},
   "source": [
    "Ya que el sentimiento tendremos que agregarlo para que tenga una utilidad, añadiremos una columna con el tiempo agrupado."
   ]
  },
  {
   "cell_type": "code",
   "execution_count": 8,
   "id": "82c41f22-bf55-4f99-a1d6-dd8bb7073d0f",
   "metadata": {},
   "outputs": [],
   "source": [
    "df[\"rount_datetime\"] = df[\"Datetime\"].dt.floor(\"30T\")"
   ]
  },
  {
   "cell_type": "markdown",
   "id": "1ae31db8-1966-4be7-951b-80391b4e7976",
   "metadata": {},
   "source": [
    "## **Sentimiento Global con Ponderación por Usuario**"
   ]
  },
  {
   "cell_type": "code",
   "execution_count": 36,
   "id": "6e9fa38b-f3c1-4b0c-8882-d0f3c996bf59",
   "metadata": {},
   "outputs": [],
   "source": [
    "test_df = df[1:5000]"
   ]
  },
  {
   "cell_type": "code",
   "execution_count": 38,
   "id": "3687ee69-09e7-4116-a781-014bbc8dfae4",
   "metadata": {},
   "outputs": [],
   "source": [
    "tg_test_sum = test_df.groupby(['rount_datetime', 'Username']).agg({'sentiment_v' : 'sum' , 'Datetime':'count'})"
   ]
  },
  {
   "cell_type": "code",
   "execution_count": 43,
   "id": "dc994071-e7e2-4428-96a0-cb3a4ddb70be",
   "metadata": {},
   "outputs": [],
   "source": [
    "tg_test_sum['cum'] = np.log2(1+tg_test_sum['Datetime']) / tg_test_sum['Datetime'] * tg_test_sum['sentiment_v']"
   ]
  },
  {
   "cell_type": "code",
   "execution_count": 45,
   "id": "5bec3b18-6ae6-41d3-ae09-9e853f9840d2",
   "metadata": {},
   "outputs": [],
   "source": [
    "tg_test_sum = tg_test_sum.groupby('rount_datetime').sum()"
   ]
  },
  {
   "cell_type": "code",
   "execution_count": 123,
   "id": "6023cdb2-1283-45b0-8bc8-cccad0a632ca",
   "metadata": {},
   "outputs": [],
   "source": [
    "\n",
    "tg_test_count = df.groupby(['rount_datetime', 'Username']).count()\n",
    "tg_test =pd.merge(tg_test_sum, tg_test_count, how='inner', left_index=True, right_index=True)"
   ]
  },
  {
   "cell_type": "code",
   "execution_count": 124,
   "id": "40bd6da5-34b5-46f9-a96c-181edf57cf47",
   "metadata": {},
   "outputs": [],
   "source": [
    "tg_test['cum'] = np.log2(1+tg_test['NumLikes_y']) / tg_test['NumLikes_y'] * tg_test['sentiment_v']"
   ]
  },
  {
   "cell_type": "code",
   "execution_count": 125,
   "id": "097066f9-0604-4ead-9741-3e546815279c",
   "metadata": {},
   "outputs": [],
   "source": [
    "tg_test = tg_test.groupby('rount_datetime').sum()"
   ]
  },
  {
   "cell_type": "code",
   "execution_count": 126,
   "id": "3fb98e69-2903-4196-9b90-4f59b0d51fdc",
   "metadata": {},
   "outputs": [],
   "source": [
    "tg_test.index = tg_test.index.tz_localize(None)"
   ]
  },
  {
   "cell_type": "code",
   "execution_count": 132,
   "id": "cb83ef5d-b98a-4369-8e01-9a615e0b9cf1",
   "metadata": {},
   "outputs": [],
   "source": [
    "tg_test = tg_test['2017-01-02':date_limit]"
   ]
  },
  {
   "cell_type": "code",
   "execution_count": 81,
   "id": "b4965dda-ac88-48c5-a98d-350a4b7f5934",
   "metadata": {},
   "outputs": [
    {
     "data": {
      "text/plain": [
       "RangeIndex(start=0, stop=17036819, step=1)"
      ]
     },
     "execution_count": 81,
     "metadata": {},
     "output_type": "execute_result"
    }
   ],
   "source": [
    "df.set_index('Datetime')\n",
    "df.index = df.index.tz_localize(None)"
   ]
  },
  {
   "cell_type": "markdown",
   "id": "ea650118-ee34-45ea-add4-1e89e05a5ce1",
   "metadata": {},
   "source": [
    "## **Get Bitcoin Data**"
   ]
  },
  {
   "cell_type": "code",
   "execution_count": 37,
   "id": "385c7918-75f4-4255-aeac-b75dfe6248f4",
   "metadata": {},
   "outputs": [],
   "source": [
    "b_path = \"JABA/data/bitcoin\"\n",
    "b_file = \"bitcoin.csv\"\n",
    "\n",
    "b_limit = date_limit"
   ]
  },
  {
   "cell_type": "code",
   "execution_count": 38,
   "id": "853c4748-a73f-4bc6-b4a1-57ce94b59621",
   "metadata": {},
   "outputs": [],
   "source": [
    "btc_df = pd.read_csv(\"bitcoinData1M.csv\", sep=\",\")\n",
    "btc_df['Timestamp'] = pd.to_datetime(btc_df['Timestamp'], unit='s')\n",
    "btc_df = btc_df.drop(['Open','High','Low','Weighted_Price','Volume_(BTC)', 'Volume_(Currency)'], axis=1)"
   ]
  },
  {
   "cell_type": "code",
   "execution_count": 39,
   "id": "1ce7c0e2-7c7c-4c7b-9074-e4eb6380109b",
   "metadata": {},
   "outputs": [],
   "source": [
    "btc_df['timestamp_round'] = btc_df['Timestamp'].dt.floor('30T')\n",
    "btc_df = btc_df.set_index('Timestamp')\n",
    "btc_df['Close'] = btc_df['Close'].replace(to_replace=0, method='ffill')"
   ]
  },
  {
   "cell_type": "code",
   "execution_count": 65,
   "id": "5f6bdcaa-b590-40fb-9123-79195dd6d6ac",
   "metadata": {},
   "outputs": [
    {
     "name": "stdout",
     "output_type": "stream",
     "text": [
      "Step 365 : JABA/data/bitcoin\\2018-01-01\n",
      "Step 730 : JABA/data/bitcoin\\2019-01-01\n",
      "Step 1095 : JABA/data/bitcoin\\2020-01-01\n",
      "Step 1460 : JABA/data/bitcoin\\2020-12-31\n"
     ]
    }
   ],
   "source": [
    "btc_df = pd.DataFrame()\n",
    "\n",
    "frames = []\n",
    "date_from = datetime.datetime.strptime(date_init, '%Y-%m-%d').date()\n",
    "date_until = datetime.datetime.strptime(date_limit, '%Y-%m-%d').date()\n",
    "\n",
    "i = 0\n",
    "while date_from < date_until:\n",
    "    i += 1\n",
    "\n",
    "    folder = os.path.join(b_path, str(date_from))\n",
    "    btc_file = os.path.join(folder, b_file)\n",
    "    # TODO Check if file exists\n",
    "    if i%365 == 0:\n",
    "        print(f\"Step {i} : {folder}\")\n",
    "\n",
    "    b_df = pd.read_csv(btc_file, sep=\";\")\n",
    "    frames += [b_df]\n",
    "\n",
    "    date_from = date_from + timedelta(days=1)\n",
    "\n",
    "btc_df = pd.concat(frames, ignore_index=False)"
   ]
  },
  {
   "cell_type": "markdown",
   "id": "c1e990b9-43af-441d-9d14-61836c1976bd",
   "metadata": {},
   "source": [
    "## **Preparar Datos**"
   ]
  },
  {
   "cell_type": "code",
   "execution_count": 67,
   "id": "178a39fe-67ea-4bec-895c-b73d89ae7f36",
   "metadata": {},
   "outputs": [
    {
     "data": {
      "text/html": [
       "<div>\n",
       "<style scoped>\n",
       "    .dataframe tbody tr th:only-of-type {\n",
       "        vertical-align: middle;\n",
       "    }\n",
       "\n",
       "    .dataframe tbody tr th {\n",
       "        vertical-align: top;\n",
       "    }\n",
       "\n",
       "    .dataframe thead th {\n",
       "        text-align: right;\n",
       "    }\n",
       "</style>\n",
       "<table border=\"1\" class=\"dataframe\">\n",
       "  <thead>\n",
       "    <tr style=\"text-align: right;\">\n",
       "      <th></th>\n",
       "      <th>round_datetime</th>\n",
       "      <th>timestamp</th>\n",
       "      <th>Close</th>\n",
       "    </tr>\n",
       "  </thead>\n",
       "  <tbody>\n",
       "    <tr>\n",
       "      <th>0</th>\n",
       "      <td>2017-01-02</td>\n",
       "      <td>2017-01-02 00:00:00</td>\n",
       "      <td>997.80</td>\n",
       "    </tr>\n",
       "    <tr>\n",
       "      <th>1</th>\n",
       "      <td>2017-01-02</td>\n",
       "      <td>2017-01-02 00:01:00</td>\n",
       "      <td>999.76</td>\n",
       "    </tr>\n",
       "    <tr>\n",
       "      <th>2</th>\n",
       "      <td>2017-01-02</td>\n",
       "      <td>2017-01-02 00:02:00</td>\n",
       "      <td>999.89</td>\n",
       "    </tr>\n",
       "    <tr>\n",
       "      <th>3</th>\n",
       "      <td>2017-01-02</td>\n",
       "      <td>2017-01-02 00:03:00</td>\n",
       "      <td>0.00</td>\n",
       "    </tr>\n",
       "    <tr>\n",
       "      <th>4</th>\n",
       "      <td>2017-01-02</td>\n",
       "      <td>2017-01-02 00:04:00</td>\n",
       "      <td>996.89</td>\n",
       "    </tr>\n",
       "  </tbody>\n",
       "</table>\n",
       "</div>"
      ],
      "text/plain": [
       "  round_datetime            timestamp   Close\n",
       "0     2017-01-02  2017-01-02 00:00:00  997.80\n",
       "1     2017-01-02  2017-01-02 00:01:00  999.76\n",
       "2     2017-01-02  2017-01-02 00:02:00  999.89\n",
       "3     2017-01-02  2017-01-02 00:03:00    0.00\n",
       "4     2017-01-02  2017-01-02 00:04:00  996.89"
      ]
     },
     "execution_count": 67,
     "metadata": {},
     "output_type": "execute_result"
    }
   ],
   "source": [
    "btc_df['timestamp_round'] = btc_df['timestamp'].dt.round('30T')\n"
   ]
  },
  {
   "cell_type": "code",
   "execution_count": 70,
   "id": "b3d3df2f-62bf-49ad-8144-94f001e8bfe7",
   "metadata": {},
   "outputs": [],
   "source": [
    "#df_gb = df.groupby(\"rount_datetime\").sum()\n",
    "#df_gb_c = df.groupby('rount_datetime').nunique()\n",
    "btc_df['timestamp'] = pd.to_datetime(btc_df['timestamp'])\n",
    "btc_df['Close'] = btc_df['Close'].replace(to_replace=0, method='ffill')\n",
    "btc_df['timestamp_round'] = btc_df['timestamp'].dt.floor('30T')\n",
    "btc_df = btc_df.groupby(\"timestamp_round\").mean()\n",
    " "
   ]
  },
  {
   "cell_type": "code",
   "execution_count": 42,
   "id": "37ca9a5b-9ca9-4fec-8c03-b6ba48bd7514",
   "metadata": {},
   "outputs": [],
   "source": [
    "btc_df = btc_df[date_init:date_limit]\n",
    "#df_gb = df_gb[date_init:date_limit]\n",
    "#df_gb_c = df_gb_c[date_init:date_limit]"
   ]
  },
  {
   "cell_type": "code",
   "execution_count": 72,
   "id": "0b38c8cb-f856-462c-8a4d-4c1d327a657c",
   "metadata": {},
   "outputs": [
    {
     "data": {
      "text/html": [
       "<div>\n",
       "<style scoped>\n",
       "    .dataframe tbody tr th:only-of-type {\n",
       "        vertical-align: middle;\n",
       "    }\n",
       "\n",
       "    .dataframe tbody tr th {\n",
       "        vertical-align: top;\n",
       "    }\n",
       "\n",
       "    .dataframe thead th {\n",
       "        text-align: right;\n",
       "    }\n",
       "</style>\n",
       "<table border=\"1\" class=\"dataframe\">\n",
       "  <thead>\n",
       "    <tr style=\"text-align: right;\">\n",
       "      <th></th>\n",
       "      <th>NumLikes</th>\n",
       "      <th>sentiment</th>\n",
       "      <th>sentiment_v</th>\n",
       "    </tr>\n",
       "    <tr>\n",
       "      <th>rount_datetime</th>\n",
       "      <th></th>\n",
       "      <th></th>\n",
       "      <th></th>\n",
       "    </tr>\n",
       "  </thead>\n",
       "  <tbody>\n",
       "    <tr>\n",
       "      <th>2021-05-14 21:30:00</th>\n",
       "      <td>42034</td>\n",
       "      <td>397.6480</td>\n",
       "      <td>921.485883</td>\n",
       "    </tr>\n",
       "    <tr>\n",
       "      <th>2021-05-14 22:00:00</th>\n",
       "      <td>25447</td>\n",
       "      <td>349.6222</td>\n",
       "      <td>731.962103</td>\n",
       "    </tr>\n",
       "    <tr>\n",
       "      <th>2021-05-14 22:30:00</th>\n",
       "      <td>16902</td>\n",
       "      <td>356.1691</td>\n",
       "      <td>745.702575</td>\n",
       "    </tr>\n",
       "    <tr>\n",
       "      <th>2021-05-14 23:00:00</th>\n",
       "      <td>30952</td>\n",
       "      <td>334.9281</td>\n",
       "      <td>773.327462</td>\n",
       "    </tr>\n",
       "    <tr>\n",
       "      <th>2021-05-14 23:30:00</th>\n",
       "      <td>15831</td>\n",
       "      <td>291.8743</td>\n",
       "      <td>651.716570</td>\n",
       "    </tr>\n",
       "  </tbody>\n",
       "</table>\n",
       "</div>"
      ],
      "text/plain": [
       "                     NumLikes  sentiment  sentiment_v\n",
       "rount_datetime                                       \n",
       "2021-05-14 21:30:00     42034   397.6480   921.485883\n",
       "2021-05-14 22:00:00     25447   349.6222   731.962103\n",
       "2021-05-14 22:30:00     16902   356.1691   745.702575\n",
       "2021-05-14 23:00:00     30952   334.9281   773.327462\n",
       "2021-05-14 23:30:00     15831   291.8743   651.716570"
      ]
     },
     "execution_count": 72,
     "metadata": {},
     "output_type": "execute_result"
    }
   ],
   "source": [
    "df.tail()"
   ]
  },
  {
   "cell_type": "code",
   "execution_count": 73,
   "id": "e4debe97-6f70-4282-a38f-4d4f26721f2f",
   "metadata": {},
   "outputs": [],
   "source": [
    "btc_df.index = btc_df.index.tz_localize(None)\n",
    "#df_gb_c.index = df_gb_c.index.tz_localize(None)\n",
    "df.index = df.index.tz_localize(None)"
   ]
  },
  {
   "cell_type": "code",
   "execution_count": 74,
   "id": "8b0c149f-9d34-4f26-8b5b-cbeea64a7ead",
   "metadata": {},
   "outputs": [],
   "source": [
    "merge = pd.merge(df,btc_df, how='inner', left_index=True, right_index=True)\n",
    "#merge = pd.merge(merge,df_gb_c, how='inner', left_index=True, right_index=True)"
   ]
  },
  {
   "cell_type": "code",
   "execution_count": 75,
   "id": "3845b376-d06c-443b-b1af-52cc962170bb",
   "metadata": {},
   "outputs": [
    {
     "name": "stdout",
     "output_type": "stream",
     "text": [
      "(76249, 3)\n",
      "(76245, 1)\n"
     ]
    }
   ],
   "source": [
    "print(df.shape)\n",
    "print(btc_df.shape)\n"
   ]
  },
  {
   "cell_type": "code",
   "execution_count": 76,
   "id": "34860038-3558-4d69-b037-db0c081292ba",
   "metadata": {},
   "outputs": [
    {
     "data": {
      "text/html": [
       "<div>\n",
       "<style scoped>\n",
       "    .dataframe tbody tr th:only-of-type {\n",
       "        vertical-align: middle;\n",
       "    }\n",
       "\n",
       "    .dataframe tbody tr th {\n",
       "        vertical-align: top;\n",
       "    }\n",
       "\n",
       "    .dataframe thead th {\n",
       "        text-align: right;\n",
       "    }\n",
       "</style>\n",
       "<table border=\"1\" class=\"dataframe\">\n",
       "  <thead>\n",
       "    <tr style=\"text-align: right;\">\n",
       "      <th></th>\n",
       "      <th>NumLikes</th>\n",
       "      <th>sentiment</th>\n",
       "      <th>sentiment_v</th>\n",
       "      <th>Close</th>\n",
       "    </tr>\n",
       "  </thead>\n",
       "  <tbody>\n",
       "    <tr>\n",
       "      <th>2021-05-14 21:30:00</th>\n",
       "      <td>42034</td>\n",
       "      <td>397.6480</td>\n",
       "      <td>921.485883</td>\n",
       "      <td>49680.379333</td>\n",
       "    </tr>\n",
       "    <tr>\n",
       "      <th>2021-05-14 22:00:00</th>\n",
       "      <td>25447</td>\n",
       "      <td>349.6222</td>\n",
       "      <td>731.962103</td>\n",
       "      <td>49726.503000</td>\n",
       "    </tr>\n",
       "    <tr>\n",
       "      <th>2021-05-14 22:30:00</th>\n",
       "      <td>16902</td>\n",
       "      <td>356.1691</td>\n",
       "      <td>745.702575</td>\n",
       "      <td>49926.786333</td>\n",
       "    </tr>\n",
       "    <tr>\n",
       "      <th>2021-05-14 23:00:00</th>\n",
       "      <td>30952</td>\n",
       "      <td>334.9281</td>\n",
       "      <td>773.327462</td>\n",
       "      <td>49967.426667</td>\n",
       "    </tr>\n",
       "    <tr>\n",
       "      <th>2021-05-14 23:30:00</th>\n",
       "      <td>15831</td>\n",
       "      <td>291.8743</td>\n",
       "      <td>651.716570</td>\n",
       "      <td>49950.316333</td>\n",
       "    </tr>\n",
       "  </tbody>\n",
       "</table>\n",
       "</div>"
      ],
      "text/plain": [
       "                     NumLikes  sentiment  sentiment_v         Close\n",
       "2021-05-14 21:30:00     42034   397.6480   921.485883  49680.379333\n",
       "2021-05-14 22:00:00     25447   349.6222   731.962103  49726.503000\n",
       "2021-05-14 22:30:00     16902   356.1691   745.702575  49926.786333\n",
       "2021-05-14 23:00:00     30952   334.9281   773.327462  49967.426667\n",
       "2021-05-14 23:30:00     15831   291.8743   651.716570  49950.316333"
      ]
     },
     "execution_count": 76,
     "metadata": {},
     "output_type": "execute_result"
    }
   ],
   "source": [
    "merge.tail()"
   ]
  },
  {
   "cell_type": "code",
   "execution_count": 20,
   "id": "dcc33e35-ef58-4e54-8249-45726a46395d",
   "metadata": {},
   "outputs": [],
   "source": [
    "merge['sentiment_val'] = merge['sentiment_x'] * merge['Username'] * np.log(merge['Tweet Id_y'] / merge['Username'])"
   ]
  },
  {
   "cell_type": "markdown",
   "id": "1caf043a-bdfa-4ac2-8e64-076135825e3a",
   "metadata": {},
   "source": [
    "## Correlation"
   ]
  },
  {
   "cell_type": "code",
   "execution_count": 47,
   "id": "5a8f26dc-d209-4105-b39e-c7d593423dfb",
   "metadata": {},
   "outputs": [
    {
     "data": {
      "text/plain": [
       "<AxesSubplot:>"
      ]
     },
     "execution_count": 47,
     "metadata": {},
     "output_type": "execute_result"
    },
    {
     "data": {
      "image/png": "[encoded data removed]",
      "text/plain": [
       "<Figure size 432x288 with 2 Axes>"
      ]
     },
     "metadata": {
      "needs_background": "light"
     },
     "output_type": "display_data"
    }
   ],
   "source": [
    "sns.heatmap(merge.corr())"
   ]
  },
  {
   "cell_type": "code",
   "execution_count": 93,
   "id": "28bf58e5-4b20-49ff-a196-ed6d108a9d65",
   "metadata": {},
   "outputs": [
    {
     "data": {
      "text/plain": [
       "0.7759133176222264"
      ]
     },
     "execution_count": 93,
     "metadata": {},
     "output_type": "execute_result"
    }
   ],
   "source": [
    "merge['sentiment'].corr(merge['Close'])"
   ]
  },
  {
   "cell_type": "code",
   "execution_count": 25,
   "id": "e5b67c7c-0ea0-40f6-ac22-54de99ad9475",
   "metadata": {},
   "outputs": [
    {
     "name": "stdout",
     "output_type": "stream",
     "text": [
      "Index of the max corr 6\n",
      "Max corr 0.7606522897072838\n"
     ]
    },
    {
     "name": "stderr",
     "output_type": "stream",
     "text": [
      "C:\\Users\\whiwho\\Anaconda3\\envs\\JABA\\lib\\site-packages\\seaborn\\_decorators.py:36: FutureWarning: Pass the following variables as keyword args: x, y. From version 0.12, the only valid positional argument will be `data`, and passing other arguments without an explicit keyword will result in an error or misinterpretation.\n",
      "  warnings.warn(\n"
     ]
    },
    {
     "data": {
      "text/plain": [
       "<AxesSubplot:>"
      ]
     },
     "execution_count": 25,
     "metadata": {},
     "output_type": "execute_result"
    },
    {
     "data": {
      "image/png": "[encoded data removed]",
      "text/plain": [
       "<Figure size 1600x1200 with 1 Axes>"
      ]
     },
     "metadata": {
      "needs_background": "light"
     },
     "output_type": "display_data"
    }
   ],
   "source": [
    "coor_data = []\n",
    "\n",
    "corr_index_range = 100\n",
    "\n",
    "for i in range(-corr_index_range,corr_index_range):\n",
    "    merge2 = merge.shift(periods=i)\n",
    "    #print(f\"Con shift %i el corr es %.4f \" % (i, merge2['sentiment_zz'].corr(merge['Close'])))\n",
    "    coor_data += [merge2['sentiment_zz'].corr(merge['Close'])]\n",
    "\n",
    "\n",
    "print(f\"Index of the max corr {-corr_index_range+coor_data.index(max(coor_data))}\")\n",
    "print(f\"Max corr {max(coor_data)}\")\n",
    "\n",
    "sns.lineplot(range(-100,100),coor_data)"
   ]
  },
  {
   "cell_type": "code",
   "execution_count": 97,
   "id": "14e8afe1-a6d0-421c-b497-f257faccdb7a",
   "metadata": {},
   "outputs": [],
   "source": [
    "merge['NumLikes_y2'] = merge['NumLikes'] * 4.5"
   ]
  },
  {
   "cell_type": "code",
   "execution_count": 78,
   "id": "c43fcaf3-d468-42b1-8a0a-d3008190dcc3",
   "metadata": {},
   "outputs": [],
   "source": [
    "merge['sentiment_zz'] = merge['sentiment_v'] * 52"
   ]
  },
  {
   "cell_type": "code",
   "execution_count": 79,
   "id": "c20e1149-ba5d-4a92-b0da-182a84638db0",
   "metadata": {},
   "outputs": [],
   "source": [
    "import matplotlib.pyplot as plt"
   ]
  },
  {
   "cell_type": "code",
   "execution_count": 58,
   "id": "be79b8b9-cbd5-4f20-ae10-e0aaaf5b44b5",
   "metadata": {},
   "outputs": [
    {
     "name": "stderr",
     "output_type": "stream",
     "text": [
      "C:\\Users\\whiwho\\Anaconda3\\envs\\JABA\\lib\\site-packages\\pandas\\core\\arraylike.py:358: RuntimeWarning: invalid value encountered in log\n",
      "  result = getattr(ufunc, method)(*inputs, **kwargs)\n"
     ]
    }
   ],
   "source": [
    "merge['sentiment_zz'] = np.log(merge['sentiment_zz'])\n",
    "merge['Close'] = np.log(merge['Close'])"
   ]
  },
  {
   "cell_type": "code",
   "execution_count": 98,
   "id": "8eae9003-db27-499d-8fab-623ac985ffc3",
   "metadata": {},
   "outputs": [
    {
     "data": {
      "text/plain": [
       "Text(0, 0.5, 'Price (USD)')"
      ]
     },
     "execution_count": 98,
     "metadata": {},
     "output_type": "execute_result"
    },
    {
     "data": {
      "image/png": "[encoded data removed]",
      "text/plain": [
       "<Figure size 1600x1200 with 1 Axes>"
      ]
     },
     "metadata": {
      "needs_background": "light"
     },
     "output_type": "display_data"
    }
   ],
   "source": [
    "#merge['sentiment_zz'].ewm(span = 600).mean().plot(style = 'g', label = 'Sentiment V2')\n",
    "#merge['sentiment_v'].ewm(span = 500).mean().plot(style = 'b', label = 'Sentiment')\n",
    "merge['NumLikes_y2'].ewm(span = 500).mean().plot(style = 'g', label = 'Like')\n",
    "merge['Close'].ewm(span = 40).mean().plot(style = 'b', label = 'BTC')\n",
    "\n",
    "plt.rcParams['figure.figsize'] = [16, 12]\n",
    "plt.rcParams['figure.dpi'] = 100\n",
    "plt.legend()\n",
    "plt.title(\"Bitcoin prices\")\n",
    "plt.xlabel('Date')\n",
    "plt.ylabel('Price (USD)')"
   ]
  },
  {
   "cell_type": "code",
   "execution_count": null,
   "id": "d8d84a5a-d094-46ea-83ff-0da0ff1d0b0d",
   "metadata": {},
   "outputs": [],
   "source": [
    "merge['sentiment_zz'].ewm(span = 300).mean().plot(style = 'b', label = 'Sentiment')\n",
    "merge['close'].ewm(span = 30).mean().plot(style = 'r', label = 'BTC')\n",
    "\n",
    "plt.rcParams['figure.figsize'] = [16, 12]\n",
    "plt.rcParams['figure.dpi'] = 100\n",
    "plt.legend()\n",
    "plt.title(\"Bitcoin prices\")\n",
    "plt.xlabel('Date')\n",
    "plt.ylabel('Price (USD)')"
   ]
  },
  {
   "cell_type": "markdown",
   "id": "455d59b8-eb98-443d-8786-d8f2f247891d",
   "metadata": {},
   "source": [
    "## **ARIMA**"
   ]
  },
  {
   "cell_type": "code",
   "execution_count": 61,
   "id": "c6ef4e97-15d2-4777-9fcf-31644538d452",
   "metadata": {},
   "outputs": [
    {
     "ename": "NameError",
     "evalue": "name 'AutoReg' is not defined",
     "output_type": "error",
     "traceback": [
      "\u001b[1;31m---------------------------------------------------------------------------\u001b[0m",
      "\u001b[1;31mNameError\u001b[0m                                 Traceback (most recent call last)",
      "\u001b[1;32m<ipython-input-61-4308db289eba>\u001b[0m in \u001b[0;36m<module>\u001b[1;34m\u001b[0m\n\u001b[0;32m      2\u001b[0m \u001b[1;32mfrom\u001b[0m \u001b[0mstatsmodels\u001b[0m\u001b[1;33m.\u001b[0m\u001b[0mtsa\u001b[0m\u001b[1;33m.\u001b[0m\u001b[0marima\u001b[0m\u001b[1;33m.\u001b[0m\u001b[0mmodel\u001b[0m \u001b[1;32mimport\u001b[0m \u001b[0mARIMA\u001b[0m\u001b[1;33m\u001b[0m\u001b[1;33m\u001b[0m\u001b[0m\n\u001b[0;32m      3\u001b[0m \u001b[1;33m\u001b[0m\u001b[0m\n\u001b[1;32m----> 4\u001b[1;33m \u001b[0mmodel\u001b[0m\u001b[1;33m=\u001b[0m\u001b[0mAutoReg\u001b[0m\u001b[1;33m(\u001b[0m\u001b[0mmerge\u001b[0m\u001b[1;33m[\u001b[0m\u001b[1;34m'Close'\u001b[0m\u001b[1;33m]\u001b[0m\u001b[1;33m,\u001b[0m \u001b[0mlags\u001b[0m\u001b[1;33m=\u001b[0m\u001b[1;36m29\u001b[0m\u001b[1;33m)\u001b[0m\u001b[1;33m\u001b[0m\u001b[1;33m\u001b[0m\u001b[0m\n\u001b[0m\u001b[0;32m      5\u001b[0m \u001b[1;33m\u001b[0m\u001b[0m\n\u001b[0;32m      6\u001b[0m \u001b[1;33m\u001b[0m\u001b[0m\n",
      "\u001b[1;31mNameError\u001b[0m: name 'AutoReg' is not defined"
     ]
    }
   ],
   "source": [
    "import statsmodels.api as sm\n",
    "from statsmodels.tsa.arima.model import ARIMA\n",
    "\n",
    "model=ARIMA(merge['Close'],order=(1, 1,1 ))\n",
    "\n",
    "\n",
    "results=model.fit()\n"
   ]
  },
  {
   "cell_type": "code",
   "execution_count": null,
   "id": "ea3bf39f-a829-4489-995c-3aacdc876081",
   "metadata": {},
   "outputs": [],
   "source": [
    "from statsmodels.tsa.ar_model import AutoReg\n",
    "\n",
    "model=AutoReg(merge['Close'], lags=12000)\n",
    "\n",
    "\n",
    "results=model.fit()\n",
    "\n"
   ]
  },
  {
   "cell_type": "code",
   "execution_count": null,
   "id": "10038e0e-5f0a-4a75-8e12-9910fe7ea77c",
   "metadata": {},
   "outputs": [],
   "source": [
    "from pandas.tseries.offsets import DateOffset\n",
    "\n",
    "#future_df['close'] = future_df['close'].fillna(0)\n",
    "result_data = results.predict(start = 71881, end = 82001, dynamic= False)\n",
    "pd.concat([merge['Close'], result_data[236:]]).plot(figsize=(12, 8))"
   ]
  },
  {
   "cell_type": "code",
   "execution_count": 53,
   "id": "981cc5e6-271e-4aa2-886f-85c96fe0787f",
   "metadata": {},
   "outputs": [
    {
     "data": {
      "text/plain": [
       "71881"
      ]
     },
     "execution_count": 53,
     "metadata": {},
     "output_type": "execute_result"
    }
   ],
   "source": [
    "len(merge['Close'])"
   ]
  },
  {
   "cell_type": "markdown",
   "id": "c8c80d5f-0ff0-44aa-9b83-e6bd0fd2107e",
   "metadata": {},
   "source": [
    "## Linear regression\n",
    "\n",
    "No vale de nada, pero es para probar un poco."
   ]
  },
  {
   "cell_type": "code",
   "execution_count": 22,
   "id": "631896e7-e7ab-4d33-b81f-146593f293be",
   "metadata": {},
   "outputs": [],
   "source": [
    "import numpy as np\n",
    "from sklearn.linear_model import LinearRegression"
   ]
  },
  {
   "cell_type": "code",
   "execution_count": 26,
   "id": "6cc9ca96-5091-4972-9bea-794a287d160d",
   "metadata": {},
   "outputs": [],
   "source": [
    "reg = LinearRegression().fit(merge[['Close']].to_numpy(), merge['sentiment_v'].to_numpy())"
   ]
  },
  {
   "cell_type": "code",
   "execution_count": 29,
   "id": "0a4bb0ab-707a-4d50-8476-25b67fb52bf1",
   "metadata": {},
   "outputs": [
    {
     "data": {
      "text/plain": [
       "0.5590699448269882"
      ]
     },
     "execution_count": 29,
     "metadata": {},
     "output_type": "execute_result"
    }
   ],
   "source": [
    "reg.score(merge[['Close']].to_numpy(), merge['sentiment_v'].to_numpy())"
   ]
  }
 ],
 "metadata": {
  "kernelspec": {
   "display_name": "Python 3",
   "language": "python",
   "name": "python3"
  },
  "language_info": {
   "codemirror_mode": {
    "name": "ipython",
    "version": 3
   },
   "file_extension": ".py",
   "mimetype": "text/x-python",
   "name": "python",
   "nbconvert_exporter": "python",
   "pygments_lexer": "ipython3",
   "version": "3.8.10"
  }
 },
 "nbformat": 4,
 "nbformat_minor": 5
}
